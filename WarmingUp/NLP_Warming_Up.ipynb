{
  "nbformat": 4,
  "nbformat_minor": 0,
  "metadata": {
    "colab": {
      "provenance": [],
      "authorship_tag": "ABX9TyMW/OdDeLzP6z/VY1vA9tsF",
      "include_colab_link": true
    },
    "kernelspec": {
      "name": "python3",
      "display_name": "Python 3"
    },
    "language_info": {
      "name": "python"
    }
  },
  "cells": [
    {
      "cell_type": "markdown",
      "metadata": {
        "id": "view-in-github",
        "colab_type": "text"
      },
      "source": [
        "<a href=\"https://colab.research.google.com/github/myazzeh/NLP-Course/blob/main/WarmingUp/NLP_Warming_Up.ipynb\" target=\"_parent\"><img src=\"https://colab.research.google.com/assets/colab-badge.svg\" alt=\"Open In Colab\"/></a>"
      ]
    },
    {
      "cell_type": "code",
      "execution_count": null,
      "metadata": {
        "id": "Fpyewjw9RqeR"
      },
      "outputs": [],
      "source": [
        "!pip install cohere"
      ]
    },
    {
      "cell_type": "code",
      "source": [
        "# First, install the cohere library if you haven't already\n",
        "# pip install cohere\n",
        "\n",
        "import cohere\n",
        "from cohere import ClassifyExample\n",
        "\n",
        "# Initialize the Cohere client with your API key\n",
        "api_key = \"YOUR_API\"  # Replace with your Cohere API key\n",
        "co = cohere.Client(api_key)"
      ],
      "metadata": {
        "id": "etgDOIz9Vy5i"
      },
      "execution_count": null,
      "outputs": []
    },
    {
      "cell_type": "code",
      "source": [
        "# Define the examples for classification (Supervised learning)\n",
        "#The Example object should be accessed from the cohere module\n",
        "examples = [ClassifyExample(text=\"I’m so proud of you\", label=\"positive\"),\n",
        "            ClassifyExample(text=\"What a great time to be alive\", label=\"positive\"),\n",
        "            ClassifyExample(text=\"That’s awesome work\", label=\"positive\"),\n",
        "            ClassifyExample(text=\"The service was amazing\", label=\"positive\"),\n",
        "            ClassifyExample(text=\"I love my family\", label=\"positive\"),\n",
        "            ClassifyExample(text=\"They don't care about me\", label=\"negative\"),\n",
        "            ClassifyExample(text=\"I hate this place\", label=\"negative\"),\n",
        "            ClassifyExample(text=\"The most ridiculous thing I've ever heard\", label=\"negative\"),\n",
        "            ClassifyExample(text=\"I am really frustrated\", label=\"negative\"),\n",
        "            ClassifyExample(text=\"This is so unfair\", label=\"negative\"),\n",
        "            ClassifyExample(text=\"This made me think\", label=\"neutral\"),\n",
        "            ClassifyExample(text=\"The good old days\", label=\"neutral\"),\n",
        "            ClassifyExample(text=\"What's the difference\", label=\"neutral\"),\n",
        "            ClassifyExample(text=\"You can't ignore this\", label=\"neutral\"),\n",
        "            ClassifyExample(text=\"That's how I see it\", label=\"neutral\")]\n"
      ],
      "metadata": {
        "id": "dsG2IMxxR_cL"
      },
      "execution_count": null,
      "outputs": []
    },
    {
      "cell_type": "code",
      "source": [
        "# The text you want to classify\n",
        "inputs = [\"The product arrived on time and was as expected.\",\n",
        "          \"I would never buy from this company again.\",\n",
        "          \"The quality of the product was decent, but not exceptional.\"]\n",
        "\n",
        "# Call the classify endpoint\n",
        "response = co.classify(\n",
        "    model='large',\n",
        "    inputs=inputs,\n",
        "    examples=examples\n",
        ")\n",
        "\n",
        "# Print the classification results\n",
        "for idx, result in enumerate(response.classifications):\n",
        "    print(f\"Input: {inputs[idx]}\")\n",
        "    print(f\"Predicted label: {result.prediction}\")\n",
        "    print(f\"Confidence: {result.confidence}\")\n",
        "    print(\"=\" * 30)"
      ],
      "metadata": {
        "id": "PH6F-VuOVvID"
      },
      "execution_count": null,
      "outputs": []
    }
  ]
}