{
  "nbformat": 4,
  "nbformat_minor": 0,
  "metadata": {
    "colab": {
      "provenance": [],
      "authorship_tag": "ABX9TyNcb/YU0iHzzumt0wnQ4DIY",
      "include_colab_link": true
    },
    "kernelspec": {
      "name": "python3",
      "display_name": "Python 3"
    },
    "language_info": {
      "name": "python"
    }
  },
  "cells": [
    {
      "cell_type": "markdown",
      "metadata": {
        "id": "view-in-github",
        "colab_type": "text"
      },
      "source": [
        "<a href=\"https://colab.research.google.com/github/myazzeh/NLP-Course/blob/main/Vectorization/NLP_Classification_FFNN.ipynb\" target=\"_parent\"><img src=\"https://colab.research.google.com/assets/colab-badge.svg\" alt=\"Open In Colab\"/></a>"
      ]
    },
    {
      "cell_type": "code",
      "execution_count": null,
      "metadata": {
        "id": "C4hWLzyWzaad"
      },
      "outputs": [],
      "source": [
        "import pandas as pd\n",
        "import numpy as np\n",
        "import keras\n",
        "from keras.preprocessing.text import Tokenizer\n",
        "from keras.utils import pad_sequences\n",
        "from keras.models import Sequential\n",
        "from keras.layers import Embedding, Dense, Flatten"
      ]
    },
    {
      "cell_type": "code",
      "source": [
        "train=pd.read_csv('Train.csv')\n",
        "test=pd.read_csv('Test.csv')"
      ],
      "metadata": {
        "id": "Fv4F-OsH4UNo"
      },
      "execution_count": null,
      "outputs": []
    },
    {
      "cell_type": "code",
      "source": [
        "x_train, y_train= train['claim_s'], train['fake_flag']\n",
        "x_test, y_test= test['claim_s'], test['fake_flag']"
      ],
      "metadata": {
        "id": "00VGqpK14ea0"
      },
      "execution_count": null,
      "outputs": []
    },
    {
      "cell_type": "code",
      "source": [
        "vocab= 1000\n",
        "vector_size= 10\n",
        "seq_length= 20\n",
        "tokenizer= Tokenizer( num_words= vocab, oov_token='[UNK]')\n",
        "tokenizer.fit_on_texts(x_train)\n",
        "train_seq= tokenizer.texts_to_sequences(x_train)\n",
        "test_seq= tokenizer.texts_to_sequences(x_test)"
      ],
      "metadata": {
        "id": "9wIb8dxR4v-b"
      },
      "execution_count": null,
      "outputs": []
    },
    {
      "cell_type": "code",
      "source": [
        "train_seq= pad_sequences(train_seq, maxlen=seq_length)\n",
        "test_seq= pad_sequences(test_seq, maxlen=seq_length)\n",
        "\n",
        "train_seq=np.array(train_seq)\n",
        "test_seq=np.array(test_seq)"
      ],
      "metadata": {
        "id": "tErDqK1u7BEx"
      },
      "execution_count": null,
      "outputs": []
    },
    {
      "cell_type": "code",
      "source": [
        "model= Sequential()\n",
        "model.add(Embedding(input_dim= vocab ,output_dim= vector_size , input_length= seq_length))\n",
        "model.add(Flatten())\n",
        "model.add(Dense(units=100, activation='relu'))\n",
        "model.add(Dense(units= 1, activation='sigmoid'))\n",
        "\n",
        "model.compile(optimizer= 'adam', loss='binary_crossentropy', metrics=['accuracy'])\n",
        "model.fit(train_seq, y_train, epochs=10, validation_data=(test_seq, y_test))"
      ],
      "metadata": {
        "colab": {
          "base_uri": "https://localhost:8080/"
        },
        "id": "4B91c48573dI",
        "outputId": "f36e49d1-9f35-4ded-8c1b-9f43bd2841c6"
      },
      "execution_count": null,
      "outputs": [
        {
          "output_type": "stream",
          "name": "stdout",
          "text": [
            "Epoch 1/10\n",
            "100/100 [==============================] - 2s 9ms/step - loss: 0.6278 - accuracy: 0.6732 - val_loss: 0.6117 - val_accuracy: 0.6711\n",
            "Epoch 2/10\n",
            "100/100 [==============================] - 1s 5ms/step - loss: 0.5966 - accuracy: 0.6791 - val_loss: 0.6090 - val_accuracy: 0.6754\n",
            "Epoch 3/10\n",
            "100/100 [==============================] - 1s 6ms/step - loss: 0.5624 - accuracy: 0.7064 - val_loss: 0.5931 - val_accuracy: 0.6886\n",
            "Epoch 4/10\n",
            "100/100 [==============================] - 1s 6ms/step - loss: 0.5013 - accuracy: 0.7498 - val_loss: 0.6114 - val_accuracy: 0.6776\n",
            "Epoch 5/10\n",
            "100/100 [==============================] - 1s 5ms/step - loss: 0.4255 - accuracy: 0.8035 - val_loss: 0.6478 - val_accuracy: 0.6798\n",
            "Epoch 6/10\n",
            "100/100 [==============================] - 1s 6ms/step - loss: 0.3587 - accuracy: 0.8443 - val_loss: 0.7231 - val_accuracy: 0.6732\n",
            "Epoch 7/10\n",
            "100/100 [==============================] - 0s 4ms/step - loss: 0.3017 - accuracy: 0.8666 - val_loss: 0.7731 - val_accuracy: 0.6645\n",
            "Epoch 8/10\n",
            "100/100 [==============================] - 0s 5ms/step - loss: 0.2606 - accuracy: 0.8879 - val_loss: 0.8549 - val_accuracy: 0.6491\n",
            "Epoch 9/10\n",
            "100/100 [==============================] - 1s 6ms/step - loss: 0.2266 - accuracy: 0.9055 - val_loss: 0.9514 - val_accuracy: 0.6425\n",
            "Epoch 10/10\n",
            "100/100 [==============================] - 1s 5ms/step - loss: 0.2035 - accuracy: 0.9121 - val_loss: 1.0081 - val_accuracy: 0.6382\n"
          ]
        },
        {
          "output_type": "execute_result",
          "data": {
            "text/plain": [
              "<keras.callbacks.History at 0x7fe0d1927f10>"
            ]
          },
          "metadata": {},
          "execution_count": 6
        }
      ]
    },
    {
      "cell_type": "code",
      "source": [
        "model.evaluate(test_seq, y_test)"
      ],
      "metadata": {
        "colab": {
          "base_uri": "https://localhost:8080/"
        },
        "id": "CsJJp5MJ-ov9",
        "outputId": "5adffd91-03df-4a8a-b22f-8e34343d2206"
      },
      "execution_count": null,
      "outputs": [
        {
          "output_type": "stream",
          "name": "stdout",
          "text": [
            "15/15 [==============================] - 0s 3ms/step - loss: 1.0081 - accuracy: 0.6382\n"
          ]
        },
        {
          "output_type": "execute_result",
          "data": {
            "text/plain": [
              "[1.008103609085083, 0.6381579041481018]"
            ]
          },
          "metadata": {},
          "execution_count": 7
        }
      ]
    }
  ]
}