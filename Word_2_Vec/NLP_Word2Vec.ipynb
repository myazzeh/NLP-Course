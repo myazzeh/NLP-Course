{
  "nbformat": 4,
  "nbformat_minor": 0,
  "metadata": {
    "colab": {
      "provenance": [],
      "authorship_tag": "ABX9TyNlVXeEqo2EUB2ocROskD4N",
      "include_colab_link": true
    },
    "kernelspec": {
      "name": "python3",
      "display_name": "Python 3"
    },
    "language_info": {
      "name": "python"
    }
  },
  "cells": [
    {
      "cell_type": "markdown",
      "metadata": {
        "id": "view-in-github",
        "colab_type": "text"
      },
      "source": [
        "<a href=\"https://colab.research.google.com/github/myazzeh/NLP-Course/blob/main/Word_2_Vec/NLP_Word2Vec.ipynb\" target=\"_parent\"><img src=\"https://colab.research.google.com/assets/colab-badge.svg\" alt=\"Open In Colab\"/></a>"
      ]
    },
    {
      "cell_type": "markdown",
      "source": [
        "#**Install gensim Library**"
      ],
      "metadata": {
        "id": "N7c-p1RVH54W"
      }
    },
    {
      "cell_type": "code",
      "source": [
        "!pip install gensim"
      ],
      "metadata": {
        "id": "3lfhlGcI4sRH",
        "colab": {
          "base_uri": "https://localhost:8080/"
        },
        "outputId": "22b828bf-6730-48e0-9ad8-cadf1facc5e5"
      },
      "execution_count": 31,
      "outputs": [
        {
          "output_type": "stream",
          "name": "stdout",
          "text": [
            "Requirement already satisfied: gensim in /usr/local/lib/python3.10/dist-packages (4.3.2)\n",
            "Requirement already satisfied: numpy>=1.18.5 in /usr/local/lib/python3.10/dist-packages (from gensim) (1.25.2)\n",
            "Requirement already satisfied: scipy>=1.7.0 in /usr/local/lib/python3.10/dist-packages (from gensim) (1.11.4)\n",
            "Requirement already satisfied: smart-open>=1.8.1 in /usr/local/lib/python3.10/dist-packages (from gensim) (6.4.0)\n"
          ]
        }
      ]
    },
    {
      "cell_type": "markdown",
      "source": [
        "#**Import Required Libraries:**\n",
        "1- gensim.model.Word2Vec \\\n",
        "2- gensim.model.Doc2Vec \\\n",
        "3- gensim.model.FastText \\"
      ],
      "metadata": {
        "id": "O7I0VDt5IGi3"
      }
    },
    {
      "cell_type": "code",
      "execution_count": 32,
      "metadata": {
        "id": "bA2QVhvbevOL"
      },
      "outputs": [],
      "source": [
        "import gensim\n",
        "from gensim.models import Word2Vec, Doc2Vec, FastText\n",
        "from sklearn.model_selection import train_test_split\n",
        "import pandas as pd"
      ]
    },
    {
      "cell_type": "code",
      "source": [
        "df = pd.read_csv('Spam.csv')\n",
        "df.head()\n"
      ],
      "metadata": {
        "colab": {
          "base_uri": "https://localhost:8080/",
          "height": 206
        },
        "id": "KmKiwHl9zxeb",
        "outputId": "a4101aee-f144-4e35-f576-6f2f1645c7f3"
      },
      "execution_count": 33,
      "outputs": [
        {
          "output_type": "execute_result",
          "data": {
            "text/plain": [
              "  Category                                            Message\n",
              "0      ham  Go until jurong point, crazy.. Available only ...\n",
              "1      ham                      Ok lar... Joking wif u oni...\n",
              "2     spam  Free entry in 2 a wkly comp to win FA Cup fina...\n",
              "3      ham  U dun say so early hor... U c already then say...\n",
              "4      ham  Nah I don't think he goes to usf, he lives aro..."
            ],
            "text/html": [
              "\n",
              "  <div id=\"df-86bbeab5-2574-485d-8182-63d3774033ae\" class=\"colab-df-container\">\n",
              "    <div>\n",
              "<style scoped>\n",
              "    .dataframe tbody tr th:only-of-type {\n",
              "        vertical-align: middle;\n",
              "    }\n",
              "\n",
              "    .dataframe tbody tr th {\n",
              "        vertical-align: top;\n",
              "    }\n",
              "\n",
              "    .dataframe thead th {\n",
              "        text-align: right;\n",
              "    }\n",
              "</style>\n",
              "<table border=\"1\" class=\"dataframe\">\n",
              "  <thead>\n",
              "    <tr style=\"text-align: right;\">\n",
              "      <th></th>\n",
              "      <th>Category</th>\n",
              "      <th>Message</th>\n",
              "    </tr>\n",
              "  </thead>\n",
              "  <tbody>\n",
              "    <tr>\n",
              "      <th>0</th>\n",
              "      <td>ham</td>\n",
              "      <td>Go until jurong point, crazy.. Available only ...</td>\n",
              "    </tr>\n",
              "    <tr>\n",
              "      <th>1</th>\n",
              "      <td>ham</td>\n",
              "      <td>Ok lar... Joking wif u oni...</td>\n",
              "    </tr>\n",
              "    <tr>\n",
              "      <th>2</th>\n",
              "      <td>spam</td>\n",
              "      <td>Free entry in 2 a wkly comp to win FA Cup fina...</td>\n",
              "    </tr>\n",
              "    <tr>\n",
              "      <th>3</th>\n",
              "      <td>ham</td>\n",
              "      <td>U dun say so early hor... U c already then say...</td>\n",
              "    </tr>\n",
              "    <tr>\n",
              "      <th>4</th>\n",
              "      <td>ham</td>\n",
              "      <td>Nah I don't think he goes to usf, he lives aro...</td>\n",
              "    </tr>\n",
              "  </tbody>\n",
              "</table>\n",
              "</div>\n",
              "    <div class=\"colab-df-buttons\">\n",
              "\n",
              "  <div class=\"colab-df-container\">\n",
              "    <button class=\"colab-df-convert\" onclick=\"convertToInteractive('df-86bbeab5-2574-485d-8182-63d3774033ae')\"\n",
              "            title=\"Convert this dataframe to an interactive table.\"\n",
              "            style=\"display:none;\">\n",
              "\n",
              "  <svg xmlns=\"http://www.w3.org/2000/svg\" height=\"24px\" viewBox=\"0 -960 960 960\">\n",
              "    <path d=\"M120-120v-720h720v720H120Zm60-500h600v-160H180v160Zm220 220h160v-160H400v160Zm0 220h160v-160H400v160ZM180-400h160v-160H180v160Zm440 0h160v-160H620v160ZM180-180h160v-160H180v160Zm440 0h160v-160H620v160Z\"/>\n",
              "  </svg>\n",
              "    </button>\n",
              "\n",
              "  <style>\n",
              "    .colab-df-container {\n",
              "      display:flex;\n",
              "      gap: 12px;\n",
              "    }\n",
              "\n",
              "    .colab-df-convert {\n",
              "      background-color: #E8F0FE;\n",
              "      border: none;\n",
              "      border-radius: 50%;\n",
              "      cursor: pointer;\n",
              "      display: none;\n",
              "      fill: #1967D2;\n",
              "      height: 32px;\n",
              "      padding: 0 0 0 0;\n",
              "      width: 32px;\n",
              "    }\n",
              "\n",
              "    .colab-df-convert:hover {\n",
              "      background-color: #E2EBFA;\n",
              "      box-shadow: 0px 1px 2px rgba(60, 64, 67, 0.3), 0px 1px 3px 1px rgba(60, 64, 67, 0.15);\n",
              "      fill: #174EA6;\n",
              "    }\n",
              "\n",
              "    .colab-df-buttons div {\n",
              "      margin-bottom: 4px;\n",
              "    }\n",
              "\n",
              "    [theme=dark] .colab-df-convert {\n",
              "      background-color: #3B4455;\n",
              "      fill: #D2E3FC;\n",
              "    }\n",
              "\n",
              "    [theme=dark] .colab-df-convert:hover {\n",
              "      background-color: #434B5C;\n",
              "      box-shadow: 0px 1px 3px 1px rgba(0, 0, 0, 0.15);\n",
              "      filter: drop-shadow(0px 1px 2px rgba(0, 0, 0, 0.3));\n",
              "      fill: #FFFFFF;\n",
              "    }\n",
              "  </style>\n",
              "\n",
              "    <script>\n",
              "      const buttonEl =\n",
              "        document.querySelector('#df-86bbeab5-2574-485d-8182-63d3774033ae button.colab-df-convert');\n",
              "      buttonEl.style.display =\n",
              "        google.colab.kernel.accessAllowed ? 'block' : 'none';\n",
              "\n",
              "      async function convertToInteractive(key) {\n",
              "        const element = document.querySelector('#df-86bbeab5-2574-485d-8182-63d3774033ae');\n",
              "        const dataTable =\n",
              "          await google.colab.kernel.invokeFunction('convertToInteractive',\n",
              "                                                    [key], {});\n",
              "        if (!dataTable) return;\n",
              "\n",
              "        const docLinkHtml = 'Like what you see? Visit the ' +\n",
              "          '<a target=\"_blank\" href=https://colab.research.google.com/notebooks/data_table.ipynb>data table notebook</a>'\n",
              "          + ' to learn more about interactive tables.';\n",
              "        element.innerHTML = '';\n",
              "        dataTable['output_type'] = 'display_data';\n",
              "        await google.colab.output.renderOutput(dataTable, element);\n",
              "        const docLink = document.createElement('div');\n",
              "        docLink.innerHTML = docLinkHtml;\n",
              "        element.appendChild(docLink);\n",
              "      }\n",
              "    </script>\n",
              "  </div>\n",
              "\n",
              "\n",
              "<div id=\"df-b4515bca-5de6-4efb-b3a1-2bf504ef2003\">\n",
              "  <button class=\"colab-df-quickchart\" onclick=\"quickchart('df-b4515bca-5de6-4efb-b3a1-2bf504ef2003')\"\n",
              "            title=\"Suggest charts\"\n",
              "            style=\"display:none;\">\n",
              "\n",
              "<svg xmlns=\"http://www.w3.org/2000/svg\" height=\"24px\"viewBox=\"0 0 24 24\"\n",
              "     width=\"24px\">\n",
              "    <g>\n",
              "        <path d=\"M19 3H5c-1.1 0-2 .9-2 2v14c0 1.1.9 2 2 2h14c1.1 0 2-.9 2-2V5c0-1.1-.9-2-2-2zM9 17H7v-7h2v7zm4 0h-2V7h2v10zm4 0h-2v-4h2v4z\"/>\n",
              "    </g>\n",
              "</svg>\n",
              "  </button>\n",
              "\n",
              "<style>\n",
              "  .colab-df-quickchart {\n",
              "      --bg-color: #E8F0FE;\n",
              "      --fill-color: #1967D2;\n",
              "      --hover-bg-color: #E2EBFA;\n",
              "      --hover-fill-color: #174EA6;\n",
              "      --disabled-fill-color: #AAA;\n",
              "      --disabled-bg-color: #DDD;\n",
              "  }\n",
              "\n",
              "  [theme=dark] .colab-df-quickchart {\n",
              "      --bg-color: #3B4455;\n",
              "      --fill-color: #D2E3FC;\n",
              "      --hover-bg-color: #434B5C;\n",
              "      --hover-fill-color: #FFFFFF;\n",
              "      --disabled-bg-color: #3B4455;\n",
              "      --disabled-fill-color: #666;\n",
              "  }\n",
              "\n",
              "  .colab-df-quickchart {\n",
              "    background-color: var(--bg-color);\n",
              "    border: none;\n",
              "    border-radius: 50%;\n",
              "    cursor: pointer;\n",
              "    display: none;\n",
              "    fill: var(--fill-color);\n",
              "    height: 32px;\n",
              "    padding: 0;\n",
              "    width: 32px;\n",
              "  }\n",
              "\n",
              "  .colab-df-quickchart:hover {\n",
              "    background-color: var(--hover-bg-color);\n",
              "    box-shadow: 0 1px 2px rgba(60, 64, 67, 0.3), 0 1px 3px 1px rgba(60, 64, 67, 0.15);\n",
              "    fill: var(--button-hover-fill-color);\n",
              "  }\n",
              "\n",
              "  .colab-df-quickchart-complete:disabled,\n",
              "  .colab-df-quickchart-complete:disabled:hover {\n",
              "    background-color: var(--disabled-bg-color);\n",
              "    fill: var(--disabled-fill-color);\n",
              "    box-shadow: none;\n",
              "  }\n",
              "\n",
              "  .colab-df-spinner {\n",
              "    border: 2px solid var(--fill-color);\n",
              "    border-color: transparent;\n",
              "    border-bottom-color: var(--fill-color);\n",
              "    animation:\n",
              "      spin 1s steps(1) infinite;\n",
              "  }\n",
              "\n",
              "  @keyframes spin {\n",
              "    0% {\n",
              "      border-color: transparent;\n",
              "      border-bottom-color: var(--fill-color);\n",
              "      border-left-color: var(--fill-color);\n",
              "    }\n",
              "    20% {\n",
              "      border-color: transparent;\n",
              "      border-left-color: var(--fill-color);\n",
              "      border-top-color: var(--fill-color);\n",
              "    }\n",
              "    30% {\n",
              "      border-color: transparent;\n",
              "      border-left-color: var(--fill-color);\n",
              "      border-top-color: var(--fill-color);\n",
              "      border-right-color: var(--fill-color);\n",
              "    }\n",
              "    40% {\n",
              "      border-color: transparent;\n",
              "      border-right-color: var(--fill-color);\n",
              "      border-top-color: var(--fill-color);\n",
              "    }\n",
              "    60% {\n",
              "      border-color: transparent;\n",
              "      border-right-color: var(--fill-color);\n",
              "    }\n",
              "    80% {\n",
              "      border-color: transparent;\n",
              "      border-right-color: var(--fill-color);\n",
              "      border-bottom-color: var(--fill-color);\n",
              "    }\n",
              "    90% {\n",
              "      border-color: transparent;\n",
              "      border-bottom-color: var(--fill-color);\n",
              "    }\n",
              "  }\n",
              "</style>\n",
              "\n",
              "  <script>\n",
              "    async function quickchart(key) {\n",
              "      const quickchartButtonEl =\n",
              "        document.querySelector('#' + key + ' button');\n",
              "      quickchartButtonEl.disabled = true;  // To prevent multiple clicks.\n",
              "      quickchartButtonEl.classList.add('colab-df-spinner');\n",
              "      try {\n",
              "        const charts = await google.colab.kernel.invokeFunction(\n",
              "            'suggestCharts', [key], {});\n",
              "      } catch (error) {\n",
              "        console.error('Error during call to suggestCharts:', error);\n",
              "      }\n",
              "      quickchartButtonEl.classList.remove('colab-df-spinner');\n",
              "      quickchartButtonEl.classList.add('colab-df-quickchart-complete');\n",
              "    }\n",
              "    (() => {\n",
              "      let quickchartButtonEl =\n",
              "        document.querySelector('#df-b4515bca-5de6-4efb-b3a1-2bf504ef2003 button');\n",
              "      quickchartButtonEl.style.display =\n",
              "        google.colab.kernel.accessAllowed ? 'block' : 'none';\n",
              "    })();\n",
              "  </script>\n",
              "</div>\n",
              "    </div>\n",
              "  </div>\n"
            ],
            "application/vnd.google.colaboratory.intrinsic+json": {
              "type": "dataframe",
              "variable_name": "df",
              "summary": "{\n  \"name\": \"df\",\n  \"rows\": 5572,\n  \"fields\": [\n    {\n      \"column\": \"Category\",\n      \"properties\": {\n        \"dtype\": \"category\",\n        \"num_unique_values\": 2,\n        \"samples\": [\n          \"spam\",\n          \"ham\"\n        ],\n        \"semantic_type\": \"\",\n        \"description\": \"\"\n      }\n    },\n    {\n      \"column\": \"Message\",\n      \"properties\": {\n        \"dtype\": \"string\",\n        \"num_unique_values\": 5157,\n        \"samples\": [\n          \"Also sir, i sent you an email about how to log into the usc payment portal. I.ll send you another message that should explain how things are back home. Have a great weekend.\",\n          \"Are you free now?can i call now?\"\n        ],\n        \"semantic_type\": \"\",\n        \"description\": \"\"\n      }\n    }\n  ]\n}"
            }
          },
          "metadata": {},
          "execution_count": 33
        }
      ]
    },
    {
      "cell_type": "code",
      "source": [
        "X= df['Message']\n",
        "y= df['Category']\n",
        "y.replace('spam', 1, inplace=True)\n",
        "y.replace('ham', 0, inplace=True)\n",
        "x_train, x_test, y_train, y_test = train_test_split(X,y, test_size=0.3)"
      ],
      "metadata": {
        "id": "PL1Te5Mf7Shc"
      },
      "execution_count": 34,
      "outputs": []
    },
    {
      "cell_type": "code",
      "source": [
        "x_train = [txt.split() for txt in x_train]\n",
        "x_test = [txt.split() for txt in x_test]"
      ],
      "metadata": {
        "id": "PDUtIM3o4CNk"
      },
      "execution_count": 35,
      "outputs": []
    },
    {
      "cell_type": "code",
      "source": [
        "x_train[0:3]"
      ],
      "metadata": {
        "colab": {
          "base_uri": "https://localhost:8080/"
        },
        "id": "u3ilu1x0PYRU",
        "outputId": "c34e630e-35d3-480e-f6d5-00a1fac08e8b"
      },
      "execution_count": 36,
      "outputs": [
        {
          "output_type": "execute_result",
          "data": {
            "text/plain": [
              "[['As', 'usual..iam', 'fine,', 'happy', '&amp;', 'doing', 'well..:)'],\n",
              " ['No',\n",
              "  \"you'll\",\n",
              "  'just',\n",
              "  'get',\n",
              "  'a',\n",
              "  'headache',\n",
              "  'trying',\n",
              "  'to',\n",
              "  'figure',\n",
              "  'it',\n",
              "  'out.',\n",
              "  'U',\n",
              "  'can',\n",
              "  'trust',\n",
              "  'me',\n",
              "  'to',\n",
              "  'do',\n",
              "  'the',\n",
              "  'math.',\n",
              "  'I',\n",
              "  'promise.',\n",
              "  'O:-)'],\n",
              " ['Tired.', 'I', \"haven't\", 'slept', 'well', 'the', 'past', 'few', 'nights.']]"
            ]
          },
          "metadata": {},
          "execution_count": 36
        }
      ]
    },
    {
      "cell_type": "markdown",
      "source": [
        "#**Build Word2Vec Model**"
      ],
      "metadata": {
        "id": "tNEH5BOCHTYA"
      }
    },
    {
      "cell_type": "code",
      "source": [
        "model= Word2Vec(sentences= x_train, vector_size=10, window=3, sg=1, epochs=50)"
      ],
      "metadata": {
        "id": "dD0OG6WChRvr"
      },
      "execution_count": 37,
      "outputs": []
    },
    {
      "cell_type": "code",
      "source": [
        "vocab = model.wv.index_to_key\n",
        "print(vocab)\n",
        "print(f\"length of vocab is {len(vocab)}\")"
      ],
      "metadata": {
        "colab": {
          "base_uri": "https://localhost:8080/"
        },
        "id": "SzuGYaUFiRPb",
        "outputId": "bb487210-cf45-45ca-9343-8c7ff13cf0c7"
      },
      "execution_count": 38,
      "outputs": [
        {
          "output_type": "stream",
          "name": "stdout",
          "text": [
            "['to', 'you', 'I', 'a', 'the', 'and', 'in', 'i', 'is', 'u', 'for', 'my', 'of', 'me', 'your', 'have', 'on', '2', 'that', 'it', 'are', 'call', 'or', 'be', 'with', 'not', 'will', 'at', 'get', 'can', 'so', 'U', 'ur', \"I'm\", 'but', 'You', '4', 'from', 'do', '&lt;#&gt;', 'up', 'if', 'just', 'all', 'we', 'got', 'when', 'know', 'come', 'out', 'was', '.', 'go', 'like', 'this', 'now', '?', 'am', 'want', '...', 'send', 'by', 'Call', 'need', 'How', 'n', 'been', 'as', 'then', 'time', \"I'll\", 'only', 'about', 'what', 'our', 'But', 'still', 'one', 'If', 'he', 'text', 'going', 'good', 'its', 'No', 'no', 'has', 'Just', 'see', \"don't\", 'Your', 'how', 'Do', 'So', 'any', 'We', 'love', 'back', 'take', 'her', 'there', 'd', 'day', 'think', 'free', 'ü', 'an', 'some', '&', 'r', 'home', 'My', 'dont', 'Ok', 'she', 'tell', 'they', 'me.', 'mobile', 'A', 'What', 'later', '-', 'make', 'And', '&amp;', 'Have', 'phone', 'much', 'FREE', 'you.', 'him', 'now.', 'more', \"i'm\", 'who', 'ask', 'Are', 'meet', 'The', 'give', 'To', 'new', 'claim', 'This', 'great', 'way', 'reply', 'had', 'Can', 'Hey', 'number', 'would', 'Good', 'txt', 'them', 'Txt', 'here', 'contact', 'say', 'e', 'too', 'week', 'Hi', 'pick', 'every', 'lor.', 'said', '!', 'should', 'after', 'really', 'Its', 'sent', 'Please', 'per', 'message', 'stop', 'Pls', 'next', 'keep', 'many', 'did', 'right', 'miss', 'da', ':)', 'It', 'find', 'gonna', 'Oh', 'told', '1', 'where', 'now!', 'it.', 'feel', 'Then', 'He', 'let', 'work', 'Happy', 'Ur', 'last', 'sure', 'night', 'Sorry,', 'before', 'very', 'doing', 'Ü', 'Not', 'Sorry', \"it's\", 'dun', 'cos', 'could', 'tomorrow', 'ok', 'around', 'even', 'msg', 'She', 'care', 'wan', 'which', 'lor...', '3', 'leave', 'Reply', 'always', 'his', 'buy', 'day.', 'were', 'hope', 'please', 'Lol', 'down', 'getting', 'Is', 'b', 'thing', 'went', 'Did', 'c', 'Hope', 'prize', 'x', 'things', 'cant', 'today', 'waiting', 'why', 'also', 'dear', 'trying', 'When', 'cash', 'service', 'STOP', \"can't\", 'Yeah', 'over', 'something', \"I've\", 'other', 'won', 'off', 'use', 'Thanks', 'coming', 'having', 'place', 'Get', 'Will', 'us', 'Dear', 'Nokia', 'thought', 'another', 'already', \"It's\", 'wait', 'As', 'anything', 'Text', 'few', 'All', \"didn't\", 'Dont', 'Free', 'Gud', 'For', '1st', 'shows', 'receive', 'customer', 'talk', 'being', 'money', 'In', 'pls', 'guys', 'stuff', 'Where', 'wont', 'there.', 'never', 'da.', 'thk', 'long', 'bit', 'Or', 'late', 'nice', 'R', 'you,', '£1000', 'life', 'best', 'morning', 'someone', 'im', 'wish', '*', 'name', 'first', 'wat', 'win', '+', 'IS', \"you're\", 'Yup', 'Send', 'might', 'friend', 'people', 'URGENT!', 'well', 'New', 'Now', 'big', 'UR', 'goes', 'That', '2nd', 'YOU', 'you?', 'dat', \"i'll\", 'than', 'again', 'quite', 'same', 'Well', 'friends', 'K', \"that's\", 'half', ',', 'called', 'car', 'lunch', 'C', 'special', 'real', 'soon', 'you!', 'try', 'See', 'says', 'draw', 'mind', 'watch', 'put', 'Only', 'u.', 'Claim', 'Tell', 'end', 'ok.', 'sleep', 'ever', 'live', 'CALL', 'help', 'chance', 'babe', 'into', 'selected', 'didnt', 'sorry', 'today.', 'happy', 'ready', 'hour', 'time.', 'looking', 'days', 'IM', 'eat', 'hear', 'home.', 'They', 'little', 'Mobile', 'PO', 'Yes', 'meeting', 'later.', 'face', 'made', 'pay', 'chat', 'part', 'hi', 'because', 'MY', '5', '16', 'that.', 'tonight', 'until', 'between', 'Am', 'NOW', 'latest', 'Why', 'left', 'start', '150ppm', 'wanna', 'ill', 'better', 'Im', 'remember', 'done', 'job', 'most', 'class', 'person', 'Ok...', '&lt;DECIMAL&gt;', '18', 'those', 'wanted', 'it,', \"he's\", 'may', 'den', 'reach', 'ME', 'till', 'awarded', 'dis', 'asked', 'attempt', 'shit', 'house', 'wants', 'plan', 'once', 'finish', 'fun', \"That's\", 'probably', \"i've\", 'juz', ':-)', 'minutes', 'came', 'two', 'forgot', 'AT', 'guaranteed', 'since', 'out.', 'Wat', 'watching', 'tv', 'school', 'tried', 'haf', '£2000', 'smile', 'girl', 'lot', 'must', 'started', 'THE', 'lor', 'UP', 'show', 'means', '8007', 'wif', 'Me', 'check', 'NEW', 'bring', 'y', 'video', 'do.', 'entry', 'early', 'without', 'everything', 'IN', 'enjoy', 'word', 'guess', 'makes', 'year', 'Love', 'sexy', 'room', 'texts', 'Thank', 'thanks', 'top', 'network', 'actually', 'hav', 'jus', 'pain', 'weekly', 'taking', '4*', 'join', 'tot', \"won't\", 'important', 're', 'til', 'sat', 'v', 'cause', 'good.', 'me?', 'now?', 'making', 'tone', 'saw', 'pounds', 'bus', 'stay', 'liao...', 'Cos', 'able', 'run', 'knw', 'enough', 'dinner', 'Got', '750', 'wid', '86688', 'working', 'princess!', 'thats', '..', 'wake', 'I.ll', 'Today', 'heart', 'abt', 'maybe', 'driving', 'Expires', 'GUARANTEED.', 'WON', 'collect', 'mail', 'Thats', 'Valid', 'times', '16+', 'ON', 'No:', 'saying', 'speak', 'T&Cs', 'angry', 'post', 'took', 'man', 'holiday', 'hurt', 'believe', 'tones', 'feeling', 'Box', 'Take', 'Haha', 'missed', 'plz', 'now,', 'Identifier', 'boy', 'comes', \"there's\", 'me...', 'Ok.', 'set', 'Had', 'tonight?', 'With', 'yeah', '£100', 'No.', 'look', 'needs', 'Come', '150p', 'lar...', 'May', 'up.', 'LOVE', 'evening', 'After', 'mins', 'world', 'SMS', 'ringtone', 'ah?', 'week.', 'account', '||', 'bad', 'details', 'oso', 'WITH', 'birthday', 'dad', 'these', 'sch', 'away', 'play', 'camera', 'Holiday', 'town', 'both', 'head', 'apply', \"What's\", 'There', '£500', 'sweet', 'either', 'does', 'month', 'fine.', 'trip', 'food', 'fucking', 'noe', 'await', 'nothing', 'open', \"haven't\", 'Orange', 'years', '18+', \"how's\", 'Even', 'here.', 'bed', \"Don't\", 'pretty', 'happen', 'yr', 'Statement', 'Account', 'PRIVATE!', 'walk', 'Want', 'line.', 'GO', 'award', 'Should', 'forget', 'WIN', 'prize.', 'back.', '12hrs', 'At', '6', 'right?', 'ya', 'shall', 'NOW!', 'havent', 'cost', 'unsubscribe', 'it...', '10p', 'problem', 'yet', 'Dunno', 'story', 'land', 'goin', 'outside', 'class.', 'gone', 'Let', '08000930705', 'hours', 'colour', 'xxx', 'Prize', 'lesson', 'CHAT', 'thinking', 'book', 'finished', 'Any', 'Haha...', 'too.', 'Stop', '£250', 'YOU!', 'FOR', 'Aight', 'operator', 'Last', 'pics', 'missing', 'wat...', 'each', 'leaving', 'delivery', 'Yeah,', 'Was', 'movie', '500', 'family', 'it?', 'min', 'wil', 'test', 'Aight,', '10', ':-(', 'Going', 'mean', 'Speak', 'meant', 'Todays', 'U.', 'wonderful', '0800', 'Cost', \"we're\", 'Ya', '100', 'today?', 'offer', 'it!', 'only.', 'telling', 'morning.', \"How's\", 'calling', 'line', \"you'll\", 'gas', 'wit', 'download', 'secret', 'T&C', 'bout', 'aft', 'luv', 'sms', 'together', 'NOKIA', 'Code:', 'tmr', 'points.', 'Y', 'checking', '£2,000', '800', 'sort', 'smoke', 'already...', '7', 'YOUR', 'Wish', '!!', 'decided', 'k', 'true', 'thinks', 'lei...', 'OF', 'bored', 'mob', 'hair', 'fr', 'Xmas', 'answer', 'date', 'change', 'through', 'ring', 'u?', 'office', 'touch', 'online', 'Bonus', 'work.', 'Hello', 'BSLVYL', 'XXX', 'Wen', 'Still', 'frm', 'Our', 'shopping', 'FREE!', 'felt', 'Customer', 'code', 'By', 'services', 'words', 'their', 'found', 'old', '*grins*', 'drop', 'HAVE', 'message.', 'kiss*', 'treat', 'drive', 'no.', 'anyone', 'game', 'shop', 'though', 'wen', 'currently', '8', 'ITS', 'lose', 'gud', \"wasn't\", 'worry', 'phones', 'w', '2003', 'player', 'life.', 'THIS', 'Also', 'un-redeemed', 'beautiful', 'full', 'B', 'copy', 'lucky', 'invited', '–', 'gr8', 'lar', 'sea', 'One', 'charged', 'Shall', 'choose', 'dear.', 'blue', 'Guess', 'Sir,', 'de', 'thank', 'alone', 'gift', 'supposed', 'HI', 'WAS', 'collection.', 'weekend', 'landline.', 'way.', 'spend', 'order', 'guy', 'offers', 'drink', 'support', 'soon.', 'bt', 'minute', 'OUT', 'wot', 'dnt', 'pass', 'dating', 'in.', 'yours.', 'tomo', 'while', 'GOOD', 'prob', 'Yo', 'wk', 'Win', 'Go', 'ALL', 'ard', 'price', 'Who', 'easy,', 'calls', 'word:', 'address', \"isn't\", 'Need', 'Morning', 'brings', 'heard', \"we'll\", 'yet.', 'film', 'Make', 'prize!', 'Never', 'Chat', \"she's\", 'number.', 'whenever', 'TO', 'mu', 'rate', \"Joy's\", 'NICE', 'neva', 'HAPPY', 'SO', 'love.', 'bath', 'smth', 'almost', \"doesn't\", 'kind', 'card', 'yesterday', 'Double', 'extra', 'winner', 'knows', '08000839402', 'Hee...', 'help.', 'whole', 'IT', 'comp', '£1.50', 'sis', 'i.ll', 'reached', 'u...', 'K,', 'pic', 'apply.', 'Coz', 'Which', 'MobileUpd8', \"She's\", 'Yar', 'G', 'FREE.', 'th', 'visit', 'hot', 'Thanx', '…', 'Ugh', 'busy', 'Cant', 'final', 'ARE', 'Very', 'wishes', 'cool', 'Dude', 'Watching', 'type', 'available', 'nite', 'one.', ':', 'listen', 'opt', 'anytime', 'sister', 'question', 'lots', 'collection', 'loved', 'askd', 'tired', 'NOT', \"''\", 'said,', 'worth', '£350', 'yourself', 'picking', 'during', 'On', 'Okie', 'pm', 'boytoy', 'SAE', 'hit', 'ni8', 'own', '£5000', 'else', 'u!', 'tomorrow.', 'friend.', 'E', 'fri', 'Dogging', 'week!', 'reference', 'Update', 'Jus', 'train', 'again.', 'wana', 'night?', 'Nothing', 'tht', 'Miss', 'small', 'Anything', 'TXT', 'friends.', 'HMV', 'mayb', 'coz', 'weekend.', 'Thk', 'Hi,', 'bathe', 'okay.', 'second', 'news', 'easy', 'place.', 'whatever', 'specially', 'vl', 'representative', 'want.', 'oh.', 's', 'spent', 'promise', 'Enjoy', 'registered', 'Abiola', 'drugs', 'Tone', 'ü...', 'darren', 'pa.', 'crave', 'well.', 'within', 'Congrats!', 'month.', 'today!', 'seeing', 'giving', 'photo', 'o', 'seen', 'Be', 'log', 'kinda', 'voucher', 'song', 'valued', 'orchard', 'light', 'TONE', 'ONLY', 'used', 'catch', 'wrong', 'march', 'talking', 'God', 'completely', 'arrive', 'problem.', 'doing?', 'direct', 'sir.', 'me..', 'DO', '@', \"You're\", 'Pete', 'money.', 'DA', 'Think', 'to.', 'study', 'sell', 'fuck', 'Sounds', 'Would', 'Ill', 'later?', 'far', 'Press', 'fine,', 'call.', 'hungry', 'planning', 'kiss', 'across', 'computer', \"you've\", 'IF', 'lunch.', 'Maybe', 'THAT', 'out!', 'search', 'HEY', 'me,', 'de.', 'net', 'email', 'plus', 'gets', 'already.', 'company', 'rates', 'wat.', 'award.', 'mom', 'plans', 'brother', 'Yes,', 'loads', 'die', '9', 'GET', 'kept', 'him.', 'her.', 'enter', 'sad', 'tomorrow,', 'anyway', 'street', 'Great', 'afternoon,', 'messages', 'there?', 'Caller', 'g', 'ten', 'you...', 'Plus', 'Hi.', 'self', 'ends', 'discount', 'vouchers', 'hold', 'm', 'weekends', 'booked', 'Day', 'Mm', 'uncle', 'POBox', 'father', 'knew', \"You've\", 'babe.', '87066', 'NEED', 'up?', 'ex', 'Okay', 'safe', 'TC', 'txting', 'bed.', 'confirm', '£200', 'din', '3030.', 'ok...', ':V', 'ok,', 'Of', 'share', 'couple', 'sick', 'know.', 'Wow', 'deep', 'showing', 'muz', 'now...', 'weeks', '!!!', 'Sorry.', 'rite...', 'lor,', 'happened', 'charge.', 'hard', 'BABE', 'xx', 'S.', 'update', 'library', 'Once', 'entered', 'special.', 'Friends', 'party', 'Hows', 'then.', 'camcorder', 'running', 'YES', 'T', 'baby', 'WORK', 'fact', 'Hello,', 'not.', 'barely', 'U-find', 'R*reveal', 'job.', 'crazy', 'Man', 'chennai', 'rest', 'lost', 'thinkin', 'questions', 'gd', 'miracle', 'Merry', 'difficult', 'information', 'day!', 'fantastic', 'convey', 'www.getzed.co.uk', 'ok?', 'night,', 'buying', '$', 'Said:', 'charge', 'GOD', 'askin', 'sounds', 'Omg', 'special-call', 'imma', 'Wanna', 'others', 'Always', 'whats', 'Bt', 'STOP.', 'Urgent!', 'sure.', 'project', 'paying', 'horny', '25p', 'takes', 'link', 'it..', 'FREEPHONE', 'X', 'dear..', 'figure', 'wer', 'rent', 'care.', 'already?', 'First', 'kick', 'rather', 'dream', 'eg', '2.', 'close', 'baby!', 'complimentary', 'fone', 'everyone', 'fine', 'great.', 'year.', 'staying', 'finally', 'sleeping', 'Valentines', 'Night', 'sign', 'group', 'darlin', 'wondering', 'disturb', 'there,', 'however', 'Lets', 'min.', 'then...', '08712460324', 'numbers', 'ending', '11', 'girls', 'using', 'Nope', 'Say', 'house.', 'cut', 'SURPRISE', 'definitely', 'swing', 'pub', '&lt;TIME&gt;', 'park', 'stop.', 'course', 'b4', 'day?', 'bb', '2day', 'st', 'movies', 'earlier', 'god', 'babe,', 'Service', 'gave', 'CASH', 'POBOX', 'out,', 'NTT', '£800', 'side', 'From', 'sending', 'mrt', 'M.', 'I.', 'myself', 'immediately', 'fixed', 'nt', 'Same', 'Tones', 'thru', 'FROM', 'urgent', 'reason', 'oh', 'Huh', 'afternoon', 'cool.', 'towards', 'via', 'role', 'Great.', 'access', '150', 'exam', 'fast', 'area', 'NOW.', 'hop', 'dunno', 'Talk', 'yeah,', 'leh...', \"T&C's\", 'Quiz', 'DVD', 'slept', 'AM', 'feels', 'become', 'trust', 'internet', 'ass', 'Like', 'read', 'em', 'less', 'Dun', 'Sunshine', 'Sony', 'ahead', 'Txt:', 'rate)', 'stuff.', 'tmr?', 'TIME', 'kb', 'BUT', 'tickets', 'decide', 'CAN', 'BOX', 'leh', 'round', 'frnds', 'snow.', 'that,', 'Now!', 'mrng', 'wherever', 'lift', 'yours', 'plenty', '12', 'reply...', 'ASAP!', 'over?', 'gal.', 'again...', 'sound', 'Ard', 'Mins', 'wkly', 'AND', 'mate', 'comin', 'No1', 'say,', 'home...', 'NAME', 'Luv', 'normal', 'friendship', '|', 'Join', 'London', 'sun', 'slowly', 'alright', 'UNLIMITED', 'Del', '£150', 'Cs', 'SavaMob', '£900', 'box', 'anything.', 'five', 'stand', 'weather', 'wonder', 'well,', 'msg:', 'person,', 'cuz', 'rcvd.', 'over.', 'case', '2004', 'yahoo', 'pain.', 'custcare', 'shower', 'Hey...', 'Callers.', '*9', 'Callertune', 'lovely', 'mistake', 'Babe', 'onto', 'awaiting', 'Pls.', 'birthday.', 'imagine', 'gotta', 'somewhere', 'save', 'saturday', 'Person', 'no,', 'da:)', 'wife', 'wish.', 'bedroom', '.....', '1.', 'BIRTHDAY', 'request', 'DATE', 'Oh,', 'minute.', 'BT-national-rate', 'way,', 'yesterday.', 'phone.', 'near', 'entitled', 'Hmm', 'user', 'same.', 'ha', '\"I', 'nobody', 'starting', 'can...', 'workin', 'sit', 'balance', 'mid', 'usf', 'Change', 'ones', 'ah...', 'Oops', '62468', \"We'll\", \"what's\", 'good,', 'mates', 'is,', 'LOL', 'inviting', 'her:', 'STOP?', 'FRND', 'starts', 'national', 'Waiting', 'reading', \"God's\", 'lor..', 'not,', 'battery', 'Offer', 'Yes.', 'ticket', 'return', 'callertune', 'msg.', 'revealed.', 'Den', 'More', 'weekend?', '\"', 'id', 'least', 'Ahmad', 'Havent', 'this.', 'rply', 'tel', 'V', 'oredi...', 'looked', 'longer', 'wat?', 'text.', 'semester', 'months', 'straight', 'click', 'there!', 'HG/Suite342/2Lands', 'gym', 'Dad', 'Check', 'leaves', 'Year', 'directly', 'dreams', \"couldn't\", 'loving', 'u,', 'lovable', 'goto', 'noon', 'hv', 'Ltd,', 'Oh...', \"they're\", 'something?', 'boy?', 'day,', 'order,', 'love,', 'way?', 'msgs', 'nokia', 'willing', 'friday', 'Don', 'Congratulations', '£400', 'sleep.', 'TODAY', 'point', 'charity', 'tone,', 'worse', 'ans', 'MUCH', 'break', 'deal', 'picked', 'maximize', ':/', '3510i', 'much.', 'met', 'wiv', 'weed', 'possible', 'Someone', 'sir', 'jay', 'cash-in', 'cash-balance', 'back?', 'WANT', 'Eh', 'gap', 'Phone', 'Video', 'replying', 'OH', 'cancel', 'reaching', 'GOT', 'O', 'hand', 'She.s', 'night.', 'Wishing', 'match', 'password', '08712300220', 'app', 'coffee', 'smiling', 'style', 'checked', 'OR']\n",
            "length of vocab is 1672\n"
          ]
        }
      ]
    },
    {
      "cell_type": "code",
      "source": [
        "model.wv['message']"
      ],
      "metadata": {
        "colab": {
          "base_uri": "https://localhost:8080/"
        },
        "id": "AdbrnVYe8Bkz",
        "outputId": "63b9e3cc-89bb-4f30-b296-4116873eabe8"
      },
      "execution_count": 39,
      "outputs": [
        {
          "output_type": "execute_result",
          "data": {
            "text/plain": [
              "array([ 0.80300736, -0.8707511 , -0.5660014 , -0.34032258,  0.45615298,\n",
              "        0.20378454,  1.4993888 ,  0.8710505 ,  0.21312495, -0.6899118 ],\n",
              "      dtype=float32)"
            ]
          },
          "metadata": {},
          "execution_count": 39
        }
      ]
    },
    {
      "cell_type": "code",
      "source": [
        "# How to create vector for each sentence\n",
        "model.wv.similar_by_word('message', topn=10)"
      ],
      "metadata": {
        "id": "ksF8vtdo8otO",
        "colab": {
          "base_uri": "https://localhost:8080/"
        },
        "outputId": "b9563e09-b712-4e6b-98a4-425a2dd71deb"
      },
      "execution_count": 40,
      "outputs": [
        {
          "output_type": "execute_result",
          "data": {
            "text/plain": [
              "[('link', 0.9310705661773682),\n",
              " ('sent', 0.9203552007675171),\n",
              " ('mid', 0.9202043414115906),\n",
              " ('For', 0.9160977005958557),\n",
              " ('email', 0.9067047834396362),\n",
              " ('unsubscribe', 0.8996850848197937),\n",
              " ('mail', 0.894523561000824),\n",
              " ('details', 0.8930008411407471),\n",
              " ('sms', 0.88742995262146),\n",
              " ('ready', 0.8858189582824707)]"
            ]
          },
          "metadata": {},
          "execution_count": 40
        }
      ]
    },
    {
      "cell_type": "code",
      "source": [
        "model.wv.most_similar('message', topn=10)"
      ],
      "metadata": {
        "id": "4OvM6mlIkJ9H",
        "colab": {
          "base_uri": "https://localhost:8080/"
        },
        "outputId": "f92b9956-ff81-4336-b1fe-e772b2d4a7a7"
      },
      "execution_count": 41,
      "outputs": [
        {
          "output_type": "execute_result",
          "data": {
            "text/plain": [
              "[('link', 0.9310705661773682),\n",
              " ('sent', 0.9203552007675171),\n",
              " ('mid', 0.9202043414115906),\n",
              " ('For', 0.9160977005958557),\n",
              " ('email', 0.9067047834396362),\n",
              " ('unsubscribe', 0.8996850848197937),\n",
              " ('mail', 0.894523561000824),\n",
              " ('details', 0.8930008411407471),\n",
              " ('sms', 0.88742995262146),\n",
              " ('ready', 0.8858189582824707)]"
            ]
          },
          "metadata": {},
          "execution_count": 41
        }
      ]
    },
    {
      "cell_type": "markdown",
      "source": [
        "#**Create Sentence Vector**"
      ],
      "metadata": {
        "id": "UxJOEmXrHbrA"
      }
    },
    {
      "cell_type": "code",
      "source": [
        "import numpy as np\n",
        "def GenerateSentencevector(w2v_model, data):\n",
        "  sent_vect=[]\n",
        "  for sentence in data:\n",
        "    temp= np.zeros(10)\n",
        "    for token in sentence:\n",
        "      if token in model.wv:\n",
        "        temp = temp + np.array(w2v_model.wv[token])\n",
        "    sent_vect.append(temp)\n",
        "\n",
        "  return np.array(sent_vect)\n",
        "\n",
        "Xtrain = GenerateSentencevector(model, x_train)\n",
        "Xtest  = GenerateSentencevector(model, x_test)"
      ],
      "metadata": {
        "id": "BelJizw6UG0F"
      },
      "execution_count": 42,
      "outputs": []
    },
    {
      "cell_type": "markdown",
      "source": [
        "#**Build classification model**"
      ],
      "metadata": {
        "id": "4aRXZGfSHgWY"
      }
    },
    {
      "cell_type": "code",
      "source": [
        "from sklearn.linear_model import LogisticRegression\n",
        "from sklearn.naive_bayes import GaussianNB\n",
        "from sklearn.metrics import accuracy_score\n",
        "\n",
        "lr = LogisticRegression()\n",
        "lr.fit(Xtrain, y_train)\n",
        "prd_lr = lr.predict(Xtest)\n",
        "print(f'Accuracy of logisitic regression is {accuracy_score(y_test, prd_lr)}')"
      ],
      "metadata": {
        "colab": {
          "base_uri": "https://localhost:8080/"
        },
        "id": "TWrx-WaI94lg",
        "outputId": "cbcec231-31d8-4e76-e120-3f9f8fd05099"
      },
      "execution_count": 43,
      "outputs": [
        {
          "output_type": "stream",
          "name": "stdout",
          "text": [
            "Accuracy of logisitic regression is 0.9683014354066986\n"
          ]
        }
      ]
    },
    {
      "cell_type": "code",
      "source": [
        "nvb = GaussianNB()\n",
        "nvb.fit(Xtrain, y_train)\n",
        "prd_nvb = nvb.predict(Xtest)\n",
        "print(f'Accuracy of naive Bays is {accuracy_score(y_test, prd_nvb)}')"
      ],
      "metadata": {
        "colab": {
          "base_uri": "https://localhost:8080/"
        },
        "id": "mTBBhXz6A0kP",
        "outputId": "52e439de-e737-47e3-b4d3-2285ffc4ea45"
      },
      "execution_count": 49,
      "outputs": [
        {
          "output_type": "stream",
          "name": "stdout",
          "text": [
            "Accuracy of naive Bays is 0.9246411483253588\n"
          ]
        }
      ]
    },
    {
      "cell_type": "code",
      "source": [
        "# build classification model using Neural Networks\n",
        "\n",
        "from keras.layers import Input, Dense\n",
        "from keras.models import Sequential\n",
        "\n",
        "nn = Sequential(\n",
        "    [\n",
        "        Input(shape = (10,)),\n",
        "        Dense(units= 8, activation= 'relu'),\n",
        "        Dense(units= 4, activation= 'relu'),\n",
        "        Dense(units= 1, activation= 'sigmoid'),\n",
        "\n",
        "    ]\n",
        ")\n",
        "\n",
        "nn.compile(optimizer ='adam', loss='binary_crossentropy', metrics=['accuracy'])\n",
        "nn.fit(Xtrain, y_train, epochs=20)\n",
        "nn.evaluate(Xtest, y_test)"
      ],
      "metadata": {
        "colab": {
          "base_uri": "https://localhost:8080/"
        },
        "id": "cugk7r9HBWNg",
        "outputId": "628c664a-4849-4732-cdc9-6b66e6c9e505"
      },
      "execution_count": 48,
      "outputs": [
        {
          "output_type": "stream",
          "name": "stdout",
          "text": [
            "Epoch 1/20\n",
            "122/122 [==============================] - 2s 4ms/step - loss: 0.5710 - accuracy: 0.8310\n",
            "Epoch 2/20\n",
            "122/122 [==============================] - 1s 4ms/step - loss: 0.4066 - accuracy: 0.8641\n",
            "Epoch 3/20\n",
            "122/122 [==============================] - 0s 3ms/step - loss: 0.3184 - accuracy: 0.8633\n",
            "Epoch 4/20\n",
            "122/122 [==============================] - 0s 3ms/step - loss: 0.2789 - accuracy: 0.8633\n",
            "Epoch 5/20\n",
            "122/122 [==============================] - 0s 3ms/step - loss: 0.2539 - accuracy: 0.8633\n",
            "Epoch 6/20\n",
            "122/122 [==============================] - 0s 3ms/step - loss: 0.2362 - accuracy: 0.8633\n",
            "Epoch 7/20\n",
            "122/122 [==============================] - 0s 4ms/step - loss: 0.2220 - accuracy: 0.8633\n",
            "Epoch 8/20\n",
            "122/122 [==============================] - 0s 3ms/step - loss: 0.2116 - accuracy: 0.8633\n",
            "Epoch 9/20\n",
            "122/122 [==============================] - 0s 3ms/step - loss: 0.2037 - accuracy: 0.8633\n",
            "Epoch 10/20\n",
            "122/122 [==============================] - 0s 3ms/step - loss: 0.1970 - accuracy: 0.8633\n",
            "Epoch 11/20\n",
            "122/122 [==============================] - 0s 3ms/step - loss: 0.1903 - accuracy: 0.8633\n",
            "Epoch 12/20\n",
            "122/122 [==============================] - 0s 4ms/step - loss: 0.1846 - accuracy: 0.9259\n",
            "Epoch 13/20\n",
            "122/122 [==============================] - 0s 3ms/step - loss: 0.1792 - accuracy: 0.9554\n",
            "Epoch 14/20\n",
            "122/122 [==============================] - 0s 3ms/step - loss: 0.1746 - accuracy: 0.9567\n",
            "Epoch 15/20\n",
            "122/122 [==============================] - 0s 3ms/step - loss: 0.1694 - accuracy: 0.9562\n",
            "Epoch 16/20\n",
            "122/122 [==============================] - 0s 3ms/step - loss: 0.1660 - accuracy: 0.9574\n",
            "Epoch 17/20\n",
            "122/122 [==============================] - 0s 3ms/step - loss: 0.1603 - accuracy: 0.9577\n",
            "Epoch 18/20\n",
            "122/122 [==============================] - 1s 4ms/step - loss: 0.1561 - accuracy: 0.9585\n",
            "Epoch 19/20\n",
            "122/122 [==============================] - 1s 6ms/step - loss: 0.1526 - accuracy: 0.9579\n",
            "Epoch 20/20\n",
            "122/122 [==============================] - 0s 4ms/step - loss: 0.1480 - accuracy: 0.9610\n",
            "53/53 [==============================] - 1s 5ms/step - loss: 0.1328 - accuracy: 0.9725\n"
          ]
        },
        {
          "output_type": "execute_result",
          "data": {
            "text/plain": [
              "[0.13278846442699432, 0.9724880456924438]"
            ]
          },
          "metadata": {},
          "execution_count": 48
        }
      ]
    }
  ]
}