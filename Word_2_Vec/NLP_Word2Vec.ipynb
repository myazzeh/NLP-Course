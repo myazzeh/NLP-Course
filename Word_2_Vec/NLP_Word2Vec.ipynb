{
  "nbformat": 4,
  "nbformat_minor": 0,
  "metadata": {
    "colab": {
      "provenance": [],
      "authorship_tag": "ABX9TyOJThDUvWqzcCk0UbQdA/5+",
      "include_colab_link": true
    },
    "kernelspec": {
      "name": "python3",
      "display_name": "Python 3"
    },
    "language_info": {
      "name": "python"
    }
  },
  "cells": [
    {
      "cell_type": "markdown",
      "metadata": {
        "id": "view-in-github",
        "colab_type": "text"
      },
      "source": [
        "<a href=\"https://colab.research.google.com/github/myazzeh/NLP-Course/blob/main/Word_2_Vec/NLP_Word2Vec.ipynb\" target=\"_parent\"><img src=\"https://colab.research.google.com/assets/colab-badge.svg\" alt=\"Open In Colab\"/></a>"
      ]
    },
    {
      "cell_type": "markdown",
      "source": [
        "#**Install gensim Library**"
      ],
      "metadata": {
        "id": "N7c-p1RVH54W"
      }
    },
    {
      "cell_type": "code",
      "source": [
        "!pip install gensim"
      ],
      "metadata": {
        "id": "3lfhlGcI4sRH",
        "colab": {
          "base_uri": "https://localhost:8080/"
        },
        "outputId": "97377310-a67b-44b9-a874-3eea9c8e0138"
      },
      "execution_count": 16,
      "outputs": [
        {
          "output_type": "stream",
          "name": "stdout",
          "text": [
            "Requirement already satisfied: gensim in /usr/local/lib/python3.10/dist-packages (4.3.2)\n",
            "Requirement already satisfied: numpy>=1.18.5 in /usr/local/lib/python3.10/dist-packages (from gensim) (1.25.2)\n",
            "Requirement already satisfied: scipy>=1.7.0 in /usr/local/lib/python3.10/dist-packages (from gensim) (1.11.4)\n",
            "Requirement already satisfied: smart-open>=1.8.1 in /usr/local/lib/python3.10/dist-packages (from gensim) (6.4.0)\n"
          ]
        }
      ]
    },
    {
      "cell_type": "markdown",
      "source": [
        "#**Import Required Libraries:**\n",
        "1- gensim.model.Word2Vec \\\n",
        "2- gensim.model.Doc2Vec \\\n",
        "3- gensim.model.FastText \\"
      ],
      "metadata": {
        "id": "O7I0VDt5IGi3"
      }
    },
    {
      "cell_type": "code",
      "execution_count": 17,
      "metadata": {
        "id": "bA2QVhvbevOL"
      },
      "outputs": [],
      "source": [
        "import gensim\n",
        "from gensim.models import Word2Vec, Doc2Vec, FastText\n",
        "from sklearn.model_selection import train_test_split\n",
        "import pandas as pd"
      ]
    },
    {
      "cell_type": "code",
      "source": [
        "!wget https://raw.githubusercontent.com/myazzeh/NLP-Course/main/Word_2_Vec/Spam.csv"
      ],
      "metadata": {
        "colab": {
          "base_uri": "https://localhost:8080/"
        },
        "id": "7ZQEb_u4kvJ9",
        "outputId": "fcc58715-7ffd-4842-c542-a4ee95096cd1"
      },
      "execution_count": 18,
      "outputs": [
        {
          "output_type": "stream",
          "name": "stdout",
          "text": [
            "--2024-04-05 14:19:21--  https://raw.githubusercontent.com/myazzeh/NLP-Course/main/Word_2_Vec/Spam.csv\n",
            "Resolving raw.githubusercontent.com (raw.githubusercontent.com)... 185.199.108.133, 185.199.109.133, 185.199.110.133, ...\n",
            "Connecting to raw.githubusercontent.com (raw.githubusercontent.com)|185.199.108.133|:443... connected.\n",
            "HTTP request sent, awaiting response... 200 OK\n",
            "Length: 485702 (474K) [text/plain]\n",
            "Saving to: ‘Spam.csv.1’\n",
            "\n",
            "Spam.csv.1          100%[===================>] 474.32K  --.-KB/s    in 0.01s   \n",
            "\n",
            "2024-04-05 14:19:21 (34.0 MB/s) - ‘Spam.csv.1’ saved [485702/485702]\n",
            "\n"
          ]
        }
      ]
    },
    {
      "cell_type": "code",
      "source": [
        "df = pd.read_csv('Spam.csv')\n",
        "df.head()\n"
      ],
      "metadata": {
        "colab": {
          "base_uri": "https://localhost:8080/",
          "height": 206
        },
        "id": "KmKiwHl9zxeb",
        "outputId": "55310c61-d4f6-4f68-8738-00b37c7fb785"
      },
      "execution_count": 19,
      "outputs": [
        {
          "output_type": "execute_result",
          "data": {
            "text/plain": [
              "  Category                                            Message\n",
              "0      ham  Go until jurong point, crazy.. Available only ...\n",
              "1      ham                      Ok lar... Joking wif u oni...\n",
              "2     spam  Free entry in 2 a wkly comp to win FA Cup fina...\n",
              "3      ham  U dun say so early hor... U c already then say...\n",
              "4      ham  Nah I don't think he goes to usf, he lives aro..."
            ],
            "text/html": [
              "\n",
              "  <div id=\"df-50af8b98-a77c-4f2b-bab7-60124db086c0\" class=\"colab-df-container\">\n",
              "    <div>\n",
              "<style scoped>\n",
              "    .dataframe tbody tr th:only-of-type {\n",
              "        vertical-align: middle;\n",
              "    }\n",
              "\n",
              "    .dataframe tbody tr th {\n",
              "        vertical-align: top;\n",
              "    }\n",
              "\n",
              "    .dataframe thead th {\n",
              "        text-align: right;\n",
              "    }\n",
              "</style>\n",
              "<table border=\"1\" class=\"dataframe\">\n",
              "  <thead>\n",
              "    <tr style=\"text-align: right;\">\n",
              "      <th></th>\n",
              "      <th>Category</th>\n",
              "      <th>Message</th>\n",
              "    </tr>\n",
              "  </thead>\n",
              "  <tbody>\n",
              "    <tr>\n",
              "      <th>0</th>\n",
              "      <td>ham</td>\n",
              "      <td>Go until jurong point, crazy.. Available only ...</td>\n",
              "    </tr>\n",
              "    <tr>\n",
              "      <th>1</th>\n",
              "      <td>ham</td>\n",
              "      <td>Ok lar... Joking wif u oni...</td>\n",
              "    </tr>\n",
              "    <tr>\n",
              "      <th>2</th>\n",
              "      <td>spam</td>\n",
              "      <td>Free entry in 2 a wkly comp to win FA Cup fina...</td>\n",
              "    </tr>\n",
              "    <tr>\n",
              "      <th>3</th>\n",
              "      <td>ham</td>\n",
              "      <td>U dun say so early hor... U c already then say...</td>\n",
              "    </tr>\n",
              "    <tr>\n",
              "      <th>4</th>\n",
              "      <td>ham</td>\n",
              "      <td>Nah I don't think he goes to usf, he lives aro...</td>\n",
              "    </tr>\n",
              "  </tbody>\n",
              "</table>\n",
              "</div>\n",
              "    <div class=\"colab-df-buttons\">\n",
              "\n",
              "  <div class=\"colab-df-container\">\n",
              "    <button class=\"colab-df-convert\" onclick=\"convertToInteractive('df-50af8b98-a77c-4f2b-bab7-60124db086c0')\"\n",
              "            title=\"Convert this dataframe to an interactive table.\"\n",
              "            style=\"display:none;\">\n",
              "\n",
              "  <svg xmlns=\"http://www.w3.org/2000/svg\" height=\"24px\" viewBox=\"0 -960 960 960\">\n",
              "    <path d=\"M120-120v-720h720v720H120Zm60-500h600v-160H180v160Zm220 220h160v-160H400v160Zm0 220h160v-160H400v160ZM180-400h160v-160H180v160Zm440 0h160v-160H620v160ZM180-180h160v-160H180v160Zm440 0h160v-160H620v160Z\"/>\n",
              "  </svg>\n",
              "    </button>\n",
              "\n",
              "  <style>\n",
              "    .colab-df-container {\n",
              "      display:flex;\n",
              "      gap: 12px;\n",
              "    }\n",
              "\n",
              "    .colab-df-convert {\n",
              "      background-color: #E8F0FE;\n",
              "      border: none;\n",
              "      border-radius: 50%;\n",
              "      cursor: pointer;\n",
              "      display: none;\n",
              "      fill: #1967D2;\n",
              "      height: 32px;\n",
              "      padding: 0 0 0 0;\n",
              "      width: 32px;\n",
              "    }\n",
              "\n",
              "    .colab-df-convert:hover {\n",
              "      background-color: #E2EBFA;\n",
              "      box-shadow: 0px 1px 2px rgba(60, 64, 67, 0.3), 0px 1px 3px 1px rgba(60, 64, 67, 0.15);\n",
              "      fill: #174EA6;\n",
              "    }\n",
              "\n",
              "    .colab-df-buttons div {\n",
              "      margin-bottom: 4px;\n",
              "    }\n",
              "\n",
              "    [theme=dark] .colab-df-convert {\n",
              "      background-color: #3B4455;\n",
              "      fill: #D2E3FC;\n",
              "    }\n",
              "\n",
              "    [theme=dark] .colab-df-convert:hover {\n",
              "      background-color: #434B5C;\n",
              "      box-shadow: 0px 1px 3px 1px rgba(0, 0, 0, 0.15);\n",
              "      filter: drop-shadow(0px 1px 2px rgba(0, 0, 0, 0.3));\n",
              "      fill: #FFFFFF;\n",
              "    }\n",
              "  </style>\n",
              "\n",
              "    <script>\n",
              "      const buttonEl =\n",
              "        document.querySelector('#df-50af8b98-a77c-4f2b-bab7-60124db086c0 button.colab-df-convert');\n",
              "      buttonEl.style.display =\n",
              "        google.colab.kernel.accessAllowed ? 'block' : 'none';\n",
              "\n",
              "      async function convertToInteractive(key) {\n",
              "        const element = document.querySelector('#df-50af8b98-a77c-4f2b-bab7-60124db086c0');\n",
              "        const dataTable =\n",
              "          await google.colab.kernel.invokeFunction('convertToInteractive',\n",
              "                                                    [key], {});\n",
              "        if (!dataTable) return;\n",
              "\n",
              "        const docLinkHtml = 'Like what you see? Visit the ' +\n",
              "          '<a target=\"_blank\" href=https://colab.research.google.com/notebooks/data_table.ipynb>data table notebook</a>'\n",
              "          + ' to learn more about interactive tables.';\n",
              "        element.innerHTML = '';\n",
              "        dataTable['output_type'] = 'display_data';\n",
              "        await google.colab.output.renderOutput(dataTable, element);\n",
              "        const docLink = document.createElement('div');\n",
              "        docLink.innerHTML = docLinkHtml;\n",
              "        element.appendChild(docLink);\n",
              "      }\n",
              "    </script>\n",
              "  </div>\n",
              "\n",
              "\n",
              "<div id=\"df-6900bb22-e298-40ec-b06f-10f933c9ebaf\">\n",
              "  <button class=\"colab-df-quickchart\" onclick=\"quickchart('df-6900bb22-e298-40ec-b06f-10f933c9ebaf')\"\n",
              "            title=\"Suggest charts\"\n",
              "            style=\"display:none;\">\n",
              "\n",
              "<svg xmlns=\"http://www.w3.org/2000/svg\" height=\"24px\"viewBox=\"0 0 24 24\"\n",
              "     width=\"24px\">\n",
              "    <g>\n",
              "        <path d=\"M19 3H5c-1.1 0-2 .9-2 2v14c0 1.1.9 2 2 2h14c1.1 0 2-.9 2-2V5c0-1.1-.9-2-2-2zM9 17H7v-7h2v7zm4 0h-2V7h2v10zm4 0h-2v-4h2v4z\"/>\n",
              "    </g>\n",
              "</svg>\n",
              "  </button>\n",
              "\n",
              "<style>\n",
              "  .colab-df-quickchart {\n",
              "      --bg-color: #E8F0FE;\n",
              "      --fill-color: #1967D2;\n",
              "      --hover-bg-color: #E2EBFA;\n",
              "      --hover-fill-color: #174EA6;\n",
              "      --disabled-fill-color: #AAA;\n",
              "      --disabled-bg-color: #DDD;\n",
              "  }\n",
              "\n",
              "  [theme=dark] .colab-df-quickchart {\n",
              "      --bg-color: #3B4455;\n",
              "      --fill-color: #D2E3FC;\n",
              "      --hover-bg-color: #434B5C;\n",
              "      --hover-fill-color: #FFFFFF;\n",
              "      --disabled-bg-color: #3B4455;\n",
              "      --disabled-fill-color: #666;\n",
              "  }\n",
              "\n",
              "  .colab-df-quickchart {\n",
              "    background-color: var(--bg-color);\n",
              "    border: none;\n",
              "    border-radius: 50%;\n",
              "    cursor: pointer;\n",
              "    display: none;\n",
              "    fill: var(--fill-color);\n",
              "    height: 32px;\n",
              "    padding: 0;\n",
              "    width: 32px;\n",
              "  }\n",
              "\n",
              "  .colab-df-quickchart:hover {\n",
              "    background-color: var(--hover-bg-color);\n",
              "    box-shadow: 0 1px 2px rgba(60, 64, 67, 0.3), 0 1px 3px 1px rgba(60, 64, 67, 0.15);\n",
              "    fill: var(--button-hover-fill-color);\n",
              "  }\n",
              "\n",
              "  .colab-df-quickchart-complete:disabled,\n",
              "  .colab-df-quickchart-complete:disabled:hover {\n",
              "    background-color: var(--disabled-bg-color);\n",
              "    fill: var(--disabled-fill-color);\n",
              "    box-shadow: none;\n",
              "  }\n",
              "\n",
              "  .colab-df-spinner {\n",
              "    border: 2px solid var(--fill-color);\n",
              "    border-color: transparent;\n",
              "    border-bottom-color: var(--fill-color);\n",
              "    animation:\n",
              "      spin 1s steps(1) infinite;\n",
              "  }\n",
              "\n",
              "  @keyframes spin {\n",
              "    0% {\n",
              "      border-color: transparent;\n",
              "      border-bottom-color: var(--fill-color);\n",
              "      border-left-color: var(--fill-color);\n",
              "    }\n",
              "    20% {\n",
              "      border-color: transparent;\n",
              "      border-left-color: var(--fill-color);\n",
              "      border-top-color: var(--fill-color);\n",
              "    }\n",
              "    30% {\n",
              "      border-color: transparent;\n",
              "      border-left-color: var(--fill-color);\n",
              "      border-top-color: var(--fill-color);\n",
              "      border-right-color: var(--fill-color);\n",
              "    }\n",
              "    40% {\n",
              "      border-color: transparent;\n",
              "      border-right-color: var(--fill-color);\n",
              "      border-top-color: var(--fill-color);\n",
              "    }\n",
              "    60% {\n",
              "      border-color: transparent;\n",
              "      border-right-color: var(--fill-color);\n",
              "    }\n",
              "    80% {\n",
              "      border-color: transparent;\n",
              "      border-right-color: var(--fill-color);\n",
              "      border-bottom-color: var(--fill-color);\n",
              "    }\n",
              "    90% {\n",
              "      border-color: transparent;\n",
              "      border-bottom-color: var(--fill-color);\n",
              "    }\n",
              "  }\n",
              "</style>\n",
              "\n",
              "  <script>\n",
              "    async function quickchart(key) {\n",
              "      const quickchartButtonEl =\n",
              "        document.querySelector('#' + key + ' button');\n",
              "      quickchartButtonEl.disabled = true;  // To prevent multiple clicks.\n",
              "      quickchartButtonEl.classList.add('colab-df-spinner');\n",
              "      try {\n",
              "        const charts = await google.colab.kernel.invokeFunction(\n",
              "            'suggestCharts', [key], {});\n",
              "      } catch (error) {\n",
              "        console.error('Error during call to suggestCharts:', error);\n",
              "      }\n",
              "      quickchartButtonEl.classList.remove('colab-df-spinner');\n",
              "      quickchartButtonEl.classList.add('colab-df-quickchart-complete');\n",
              "    }\n",
              "    (() => {\n",
              "      let quickchartButtonEl =\n",
              "        document.querySelector('#df-6900bb22-e298-40ec-b06f-10f933c9ebaf button');\n",
              "      quickchartButtonEl.style.display =\n",
              "        google.colab.kernel.accessAllowed ? 'block' : 'none';\n",
              "    })();\n",
              "  </script>\n",
              "</div>\n",
              "    </div>\n",
              "  </div>\n"
            ],
            "application/vnd.google.colaboratory.intrinsic+json": {
              "type": "dataframe",
              "variable_name": "df",
              "summary": "{\n  \"name\": \"df\",\n  \"rows\": 5572,\n  \"fields\": [\n    {\n      \"column\": \"Category\",\n      \"properties\": {\n        \"dtype\": \"category\",\n        \"num_unique_values\": 2,\n        \"samples\": [\n          \"spam\",\n          \"ham\"\n        ],\n        \"semantic_type\": \"\",\n        \"description\": \"\"\n      }\n    },\n    {\n      \"column\": \"Message\",\n      \"properties\": {\n        \"dtype\": \"string\",\n        \"num_unique_values\": 5157,\n        \"samples\": [\n          \"Also sir, i sent you an email about how to log into the usc payment portal. I.ll send you another message that should explain how things are back home. Have a great weekend.\",\n          \"Are you free now?can i call now?\"\n        ],\n        \"semantic_type\": \"\",\n        \"description\": \"\"\n      }\n    }\n  ]\n}"
            }
          },
          "metadata": {},
          "execution_count": 19
        }
      ]
    },
    {
      "cell_type": "code",
      "source": [
        "X= df['Message']\n",
        "y= df['Category']\n",
        "y.replace('spam', 1, inplace=True)\n",
        "y.replace('ham', 0, inplace=True)\n",
        "x_train, x_test, y_train, y_test = train_test_split(X,y, test_size=0.3)"
      ],
      "metadata": {
        "id": "PL1Te5Mf7Shc"
      },
      "execution_count": 20,
      "outputs": []
    },
    {
      "cell_type": "code",
      "source": [
        "x_train = [txt.split() for txt in x_train]\n",
        "x_test = [txt.split() for txt in x_test]"
      ],
      "metadata": {
        "id": "PDUtIM3o4CNk"
      },
      "execution_count": 21,
      "outputs": []
    },
    {
      "cell_type": "code",
      "source": [
        "x_train[0:3]"
      ],
      "metadata": {
        "colab": {
          "base_uri": "https://localhost:8080/"
        },
        "id": "u3ilu1x0PYRU",
        "outputId": "7fce841b-cc47-4248-fb70-954e5de42474"
      },
      "execution_count": 22,
      "outputs": [
        {
          "output_type": "execute_result",
          "data": {
            "text/plain": [
              "[['ILL', 'B', 'DOWN', 'SOON'],\n",
              " ['No', 'one', 'interested.', 'May', 'be', 'some', 'business', 'plan.'],\n",
              " ['You', 'can', 'never', 'do', 'NOTHING']]"
            ]
          },
          "metadata": {},
          "execution_count": 22
        }
      ]
    },
    {
      "cell_type": "markdown",
      "source": [
        "#**Build Word2Vec Model**"
      ],
      "metadata": {
        "id": "tNEH5BOCHTYA"
      }
    },
    {
      "cell_type": "code",
      "source": [
        "model= Word2Vec(sentences= x_train, vector_size=10, window=3, sg=1, epochs=50)"
      ],
      "metadata": {
        "id": "dD0OG6WChRvr"
      },
      "execution_count": 23,
      "outputs": []
    },
    {
      "cell_type": "code",
      "source": [
        "vocab = model.wv.index_to_key\n",
        "print(vocab)\n",
        "print(f\"length of vocab is {len(vocab)}\")"
      ],
      "metadata": {
        "colab": {
          "base_uri": "https://localhost:8080/"
        },
        "id": "SzuGYaUFiRPb",
        "outputId": "9d22fc19-b014-464f-a3d2-eaa683c3a6a2"
      },
      "execution_count": 24,
      "outputs": [
        {
          "output_type": "stream",
          "name": "stdout",
          "text": [
            "['to', 'you', 'I', 'a', 'the', 'and', 'is', 'in', 'i', 'u', 'for', 'my', 'of', 'your', 'me', 'on', 'have', 'that', '2', 'are', 'it', 'at', 'call', 'with', 'be', 'or', 'get', 'not', 'will', 'so', 'U', 'can', 'but', 'ur', '&lt;#&gt;', \"I'm\", 'if', 'do', '4', 'from', 'go', 'just', 'You', 'know', '.', 'we', 'when', 'this', 'up', 'was', 'out', 'all', 'like', 'now', 'got', '?', 'come', '...', 'am', 'want', 'by', 'about', 'then', 'going', 'n', 'send', 'time', 'need', \"I'll\", 'Call', 'still', 'its', 'what', 'as', 'But', 'No', 'one', 'We', 'only', 'he', 'If', 'How', 'our', 'text', 'there', 'back', 'home', 'no', 'love', \"don't\", 'Just', 'how', 'So', 'ü', 'good', 'some', '&', 'see', 'dont', 'an', 'Do', 'tell', 'any', 'free', 'r', 'has', 'Your', 'What', 'make', 'phone', 'me.', 'think', 'take', 'her', 'who', 'been', 'give', 'The', 'Ok', 'day', 'A', '&amp;', 'him', 'they', 'd', 'more', \"i'm\", 'mobile', 'much', '-', 'later', 'And', 'now.', 'My', 'new', 'she', 'FREE', 'Are', 'ask', 'da', 'reply', 'Hey', 'Good', 'claim', 'you.', 'had', 'Have', 'way', 'great', 'This', 'To', 'here', 'txt', 'after', 'stop', 'too', 'contact', 'really', 'Txt', 'number', 'very', 'meet', 'say', 'right', 'miss', 'said', 'would', 'last', 'Its', 'Oh', 'Hi', 'e', 'it.', 'pick', 'work', 'find', 'message', 'Pls', 'lor...', 'feel', 'Then', 'now!', 'lor.', 'did', 'them', 'sent', 'where', 'Can', ':)', 'should', 'week', 'gonna', 'doing', 'night', 'Please', '!', 'per', 'It', 'went', 'cant', 'keep', 'his', 'buy', 'hope', 'us', 'b', 'other', 'before', 'could', 'Reply', 'ok', \"can't\", 'sure', 'wan', 'getting', 'Yeah', \"it's\", '1', 'every', 'Not', 'let', 'Ü', 'wait', 'anything', 'He', 'Is', 'many', 'Sorry,', 'told', 'leave', 'Sorry', 'why', 'Happy', 'next', 'cos', 'Did', 'tomorrow', 'c', 'msg', 'something', 'were', 'please', 'around', 'over', 'She', 'always', \"It's\", 'Lol', 'Nokia', 'cash', 'STOP', 'day.', '3', 'dun', 'For', 'Gud', 'won', 'prize', 'down', 'few', 'In', 'Ur', 'place', 'Thanks', 'Dear', 'things', 'which', 'even', 'first', 'Will', 'today', 'Text', 'win', 'dear', 'sleep', \"you're\", 'already', 'being', 'waiting', 'pls', 'wat', 'than', 'people', 'Or', 'money', 'someone', 'trying', 'When', 'That', 'friend', 'Hope', 'thought', \"didn't\", 'having', 'Where', '1st', 'also', \"I've\", 'care', 'lunch', 'service', 'talk', 'use', 'Get', 'late', 'hi', 'thing', 'you,', 'well', 'x', 'try', 'coming', 'As', 'All', 'Free', 'into', 'off', 'shows', 'car', 'special', 'again', 'customer', 'dat', '£1000', 'name', 'might', 'v', 'bit', 'eat', 'awarded', \"i'll\", 'YOU', 'finish', 'Dont', 'thk', 'C', 'quite', 'called', 'Love', '*', 'Yes', 'Send', 'morning', 'days', 'there.', 'life', 'Mobile', 'ready', 'help', 'receive', 'happy', 'Only', 'best', 'New', 'R', 'big', \"that's\", 'wanted', 'URGENT!', 'better', ',', 'friends', 'shit', 'nice', 'K', 'pay', 'Well', '2nd', 'job', 'Claim', 'wont', 'lot', 'little', 'stuff', 'ill', 'See', 'tried', 'look', 'draw', 'another', 'person', 'wif', 'They', 'reach', 'home.', 'mins', 'guys', 'watch', 'im', 'able', 'IS', 'looking', 'between', '16', 'soon', 'half', 'UR', 'you!', 'mind', 'sorry', 'Wat', 'made', 'never', 'may', 'Yup', '5', 'hour', 'latest', 'real', 'u.', 'da.', 'ME', 'same', \"i've\", 'Now', '&lt;DECIMAL&gt;', 'room', 'babe', 'forgot', 'long', 'done', 'means', 'Tell', 'guaranteed', 'probably', 'put', 'saw', 'Why', 'account', 'asked', 'plan', 'selected', 'face', '+', 'part', 'chance', 'you?', 'bring', 'dis', 'away', 'didnt', 'Got', 'now?', 'fun', 'Im', 'goes', 'tonight', 'wish', 'working', 'hear', 'today.', 'came', 'til', 'makes', 'liao...', 'ok.', 'THE', 'lor', 'that.', 'PO', 'meeting', 'until', 'left', 'without', 'guess', 'because', 'end', 'join', 'once', 'ever', 'says', 'bus', 'later.', 'den', 'yet', 'bad', 'mean', 'check', 'ya', 'live', 'play', 'chat', 'actually', \"he's\", 'network', '750', 'CALL', 'most', 'wanna', 'thats', 'heart', 'class', 'guy', 'LOVE', 'since', 'Want', \"haven't\", '£2000', 'do.', 're', 'Cos', 'year', \"won't\", \"That's\", 'attempt', '6', 'video', 'dinner', 'dad', 'stay', 'sweet', 'does', 'y', 'wants', 'details', 'remember', 'hurt', 'driving', 'smile', 'thanks', 'collect', 'Am', 'shopping', 'prize.', 'Me', 'those', 'lar...', 'school', ':-)', 'tot', 'time.', 'saying', \"Don't\", 'maybe', 'tonight?', 'it,', 'watching', 'month', 'minutes', 'everything', '500', '16+', 'min', 'Orange', 'till', 'town', 'Box', 'IM', 'man', 'abt', 'work.', 'wid', 'girl', '150p', 'Haha', 'Aight,', 'Valid', '08000930705', '7', 'camera', 'Expires', 'GO', 'line', 'takes', 'No:', 'NEW', 'book', 'NOW!', 'start', 'AT', 'together', '150ppm', 'Ok...', 'lose', 'two', 'pounds', 'princess!', 'show', 'shall', 'run', 'house', 'Identifier', 'MY', 'Statement', 'today?', 'Speak', 'Account', 'wake', '£100', 'NOW', 'comes', 'texts', 'jus', 'finished', 'sat', 'no.', 'PRIVATE!', 'problem', 'full', 'sch', 'times', 'enough', 'while', 'out.', '8007', 'WON', 'important', 'tmr', 'havent', 'boy', 'GUARANTEED.', 'Had', 'I.ll', 'hav', 'set', '..', 'knw', 'T&Cs', 'w', 'Dunno', 'feeling', 'Today', 'making', 'tv', 'line.', 'yeah', 'tones', 'ON', 'haf', 'Any', 'After', 'Ya', 'top', 'good.', 'trip', 'already?', 'must', ':-(', '10p', 'visit', 'Come', 'walk', 'sms', 'worth', 'outside', 'U.', 'soon.', 'Also', 'light', 'forget', 'mail', 'There', 'took', 'test', 'plz', 'tone', 'bt', 'evening', 'Thats', '100', 'ah?', 'hold', 'oso', 'sexy', 'Bonus', 'gud', 'fuck', 'either', 'gift', 'Should', 'k', 'Take', 'birthday', 'care.', 'old', 'Thank', 'price', 'Jus', 'de', 'leaving', '£5000', 'these', 'Smile', 'right?', 'address', 'missed', \"How's\", 'word', 'Y', 'number.', 'apply', 'change', 'With', 'lesson', 'Haha...', 'cause', 'juz', '12hrs', 'No.', 'too.', 'easy,', 'decided', 'Let', 'MobileUpd8', 'land', 'already...', 'download', \"how's\", 'Prize', 'fr', 'B', 'YOUR', 'Hello', 'taking', 'it?', 'tomorrow.', 'up.', 'colour', '4*', 'Ok.', 'FOR', 'Our', 'At', 'answer', 'both', 'goin', 'words', '2003', 'IN', '800', 'points.', 'Code:', 'FREE!', 'babe,', 'Double', '£1.50', 'Cost', 'Holiday', 'luv', 'lei...', 'lucky', 'message.', 'OUT', 'award', 'hair', 'telling', 'believe', 'u?', 'May', 'wk', 'bed', 'prize!', 'On', 'HI', 'already.', 'gave', 'movie', 'early', 'week.', '8', 'supposed', 'kiss', 'pics', 'night.', 'Todays', 'hours', 'touch', 'love.', '08000839402', 'me?', 'bored', 'delivery', 'meant', 'head', 'Anything', 'it...', 'nothing', '18+', 'oh.', 'Yo', 'weekly', 'entry', 'frm', 'shop', 'UP', 'family', 'pa.', '*grins*', 'Last', 'hit', 'felt', \"there's\", 'anytime', 'back.', \"we'll\", 'TO', 'news', 'drop', 'offer', 'within', 'neva', '0800', 'online', 'un-redeemed', 'Dude', 'their', 'weeks', 'YOU!', 'Go', 'story', 'Going', 'wit', 'pretty', 'await', 'needs', 'holiday', 'Was', 'fine', 'office', '10', 'started', 'search', 'order', 'enjoy', 'whatever', 'ringtone', 'sis', 'post', 'weekend', 'couple', 'gone', 'used', 'speak', 'wil', 'Which', 'one.', 'ring', 'tired', 'close', 'checking', 'world', 'Ill', 'crave', 'support', 'morning.', 'sending', 'fine.', 'today!', 'YES', 'Stop', 'yr', 'T', 'Yar', 'her.', 'found', 'SMS', 'seeing', 'sister', ':', 'Customer', 'Win', 'open', 'eg', 'plus', '–', 'afternoon', 'sea', 'calling', 'b4', 'wrong', 'Still', 'calls', 'currently', 'heard', '£2,000', 'worry', 'wat...', '9', 'Caller', 'landline.', 'Huh', 'direct', 'only.', 'week!', 'life.', 'angry', 'GOOD', 'phones', 'picking', 'happen', 'WIN', 'xxx', \"What's\", 'area', 'years', '18', 'pain', 'party', \"doesn't\", 'problem.', 'NOKIA', 'type', \"we're\", 'THIS', 'Even', 'me...', '!!', '…', 'noe', 'offers', 'AND', 'ok,', 'though', 'swing', 'here,', '£500', 'figure', 'it!', '£350', '2.', '86688', 'valued', 'ARE', 'By', 'crazy', 'collection.', 'feels', 'help.', 'HAPPY', 'call.', 'anyone', 'charge', 'Shall', 'yours.', 'anyway', 'friday', 'mobile!', 'kind', 'blue', 'SO', 'wat.', 'smth', 'mine', 'way.', 'loved', 'WITH', 'nite', 'baby', '4.', 'rate', 'M.', 'through', 'busy', 'each', 'date', 'fine,', 'across', 'apply.', '=', 'mom', 'else', 'wonderful', 'dear.', 'I.', 'Aight', 'minute', 'wen', 'Den', 'Thanx', 'spend', 'hot', 'Yeah,', 'S.', 'SAE', '||', 'food', 'XXX', 'thinks', 'drink', 'askd', 'One', '@', 'Ugh', 'orchard', 'using', 'Latest', 'question', 'FREE.', 'gotta', 'missing', 'somewhere', 'CAN', 'Press', 'lar', 'min.', 'love,', 'late.', 'numbers', 'Wish', 'least', 'game', 'Great', '£250', 'CHAT', 'now...', 'OF', 'Hee...', 'messages', 'everyone', 'sad', 'aft', 'NOT', 'drive', 'operator', 'mu', 'finally', 'wonder', 'vouchers', 'ard', 'Sounds', 'secret', 'drugs', 'mob', 'ni8', 'lost', 'Wanna', 'class.', 'Okie', 'dunno', 'girls', \"''\", 'money.', 'winner', 'code', 'Cs', 'normal', 'Yes.', 'bout', 'Think', 'TXT', 'Great.', 'spent', '£150', 'gets', 'computer', 'info', 'wot', 'log', 'Enjoy', 'trust', 'beautiful', 'leaves', 'Miss', 'plans', 'it..', 'Ts&Cs', 'ok?', 'Plus', 'whenever', \"wasn't\", 'G', 'hoping', 'link', 'doesnt', 'E', 'sound', 'confirm', 'Xmas', 'yo', 'knew', 'in.', 'thinking', 'not.', 'award.', 'yet.', 'course', 'want.', 'Urgent!', 'lar.', 'Who', 'Update', 'kinda', 'train', 'services', 'seems', 'night?', 'me,', 'Nothing', 'BSLVYL', 'invited', 'lovely', 'Check', 'Congratulations', 'there,', 'tht', 'Man', 'smiling', 'entered', 'stand', 'now,', 'happened', 'Mm', 'fucking', 'First', 'yesterday', 'eve', 'during', 'baby!', 'whole', 'Dogging', 'txting', 'Never', 'rite...', 'Video', 'thinkin', 'LIVE', 'u...', 'snow', 'Abiola', 'Valentines', 'project', 'muz', 'happiness', 'catch', 'extra', 'HAVE', 'seen', 'easy', 'friend.', 'Anyway', 'Watching', 'Like', 'bath', 'leh.', 'update', 'thank', 'Chat', 'IT', 'company', 'mrng', 'then.', 'booked', 'choose', 'card', 'Nope', 'well,', 'buying', 'questions', 'JUST', 'ITS', 'Morning', 'yourself', 'WILL', 'break', 'listen', 'tomorrow,', 'you...', 'opt', 'Would', 'poor', 'From', 'TIME', '&lt;TIME&gt;', 'Guess', 'tonight.', '87077', 'THAT', '3.', 'wana', 'representative', '1.', 'copy', 'out!', 'ONLY', 'add', 'word:', 'Mins', 'cost', 'year.', 'th', 'yours', 'staying', 'ALL', 'NTT', 'way,', 'club', 'U-find', 'inside', 'Hi,', 'oredi...', 'street', 'place.', 's', 'second', 'photo', 'treat', 'R*reveal', 'dating', 'final', 'special-call', 'kiss*', 'boytoy', 'track', 'GET', 'Night', 'Lets', 'o', 'hard', 'sleeping', 'DO', 'Merry', 'stop.', '87066', 'na.', 'lots', 'lor..', 'gas', 'fall', '62468', 'cut', 'unsubscribe', 'that,', 'wkly', 'posted', 'Be', 'BT-national-rate', 'saturday', 'IF', 'Sorry.', 'sitting', 'Does', 'friendship', 'princess?', 'good,', 'alone', 'noon', 'mayb', 'lunch.', 'afternoon,', 'said,', 'Cant', 'More', 'wish.', 'slow', 'great.', 'that!', 'earlier', 'day,', 'yeah,', 'chennai', 'member', 'WORK', 'via', 'SavaMob', 'write', 'me..', 'em', 'enter', 'nt', 'know!', 'somebody', \"There's\", 'completely', 'here.', 'ends', 'true', '£200', \"what's\", 'read', 'charge.', 'custcare', 'phone.', 'bid', 'POBox', 'sex', 'tel', 'SavaMob,', 'others', 'exam', 'gym', 'to.', 'fone', 'discount', 'decide', 'Yo,', 'promise', 'UK', 'oh', 'Awesome,', \"isn't\", 'him.', 'sit', 'DARLIN', 'Friends', 'them.', 'again.', 'day!', 'empty', 'battery', 'Tone', 'hop', 'uncle', 'Hows', 'nice.', 'miracle', 'budget', 'Say', 'BIRTHDAY', 'pub', '12', 'txts', 'pass', 'Half', 'definitely', 'rental', 'cool.', 'self', 'lor,', 'bed.', 'mum', 'TONE', 'kb', 'bb', 'yet?', 'need.', 'ass', 'ya,', 'trouble', 'hand', 'loads', 'paying', \"Joy's\", 'weekend.', 'power', 'dude', 'safe', 'yahoo', 'i.ll', 'match', 'Make', 'sun', 'dreams', 'rply', 'available', 'torch', 'reaching', 'leh...', 'sell', 'hungry', 'case', 'mins?', 'UNLIMITED', 'against', 'WAS', 'NICE', 'TEXT', 'wishes', 'knows', 'darren', 'know.', 'dnt', 'tickets', 'Day', 'disturb', 'whats', 'Maybe', 'tomo', 'Omg', \"UK's\", 'AM', 'collection', 'mind.', 'replying', 'up,', '\"', 'semester', 'K,', 'much.', 'pm', 'Thk', 'frnds', 'picked', 'cum', 'stock', 'WOT', 'inviting', 'STOP?', 'babe.', 'laptop', 'notice', 'fixed', 'dog', 'FRND', 'www.getzed.co.uk', 'slept', 'weekends', 'xx', 'worries', 'in,', 'while.', 'correct', 'birthday.', 'Service', 'day?', 'entitled', 'forward', 'in?', 'CASH', 'playing', 'msg.', 'weather', 'home...', 'etc.', 'starting', 'Offer', 'mrt', '\"I', 'sort', 'snow.', 'summer', 'NAME', 'de.', ':V', 'mistake', 'T&C', 'far', 'workin', 'ah...', 'charged', \"God's\", 'Cool,', \"they're\", 'Very', 'Well,', 'g', 'darlin', 'god', 'coz', 'learn', \"Can't\", 'ending', 'giving', 'lets', 'LOL', 'isnt', 'Hello.', 'shd', 'NEED', 'yoga', 'brother', 'luck', 'clean', 'quick', 'http://www.urawinner.com', 'LUV', 'morning,', 'month.', 'Auction', 'medical', 'Haha,', 'anything.', 'do,', 'understand', 'bathe', '85023', 'menu', 'mate', 'yet...', 'lazy', 'wat?', 'holla', 'Thanks.', 'discuss', 'rent', 'rain', 'rates', 'starts', 'eh', \"He's\", 'wun', 'easy.', 'back?', '*sighs*', 'comp', '£3.00', 'Someone', 'WAP', 'complimentary', 'Actually', 'is,', 'small', 'planning', 'reference', 'wiv', 'user', 'room.', 'HEY', 'Always', 'O', 'bank', 'Txt:', 'awaiting', '£900', \"You're\", 'national', 'later?', 'NO', 'cover', 'Oh,', 'Yes,', 'college', 'exciting', 'return', 'there?', '£800', 'Year', 'HOPE', \"u'll\", 'sign', 'again...', 'BOX', 'Kate', 'turns', 'specially', 'list', 'dinner?', 'happening', 'wondering', 'person,', 'ü...', 'todays', 'almost', 'comin', 'happens', 'page', 'men', 'film', 'difficult', 'sounds', 'vl', 'fast', '150', 'this.', 'however', 'way?', 'Many', 'Later', \"you'd\", 'imma', 'usf', 'no,', 'mid', 'rest', 'Sir,', 'not?', 'reply.', 'Of', 'mode', 'south', 'ge', 'Babe', 'week?', 'Loves', 'complete', 'returns', 'though.', 'eatin', 'awesome', '3030.', 'camcorder', 'TODAY', 'following', 'ones', \"She's\", 'replied', 'towards', 'Bt', 'gal.', 'basically', 'Ard', 'email', 'under', 'boy?', 'credit', 'click', 'Price', 'dream', 'there!', 'rather', 'gettin', 'sick', 'orange', 'WANT', 'alright', 'Callertune', '*9', 'Fancy', 'Callers.', 'callertune', 'request', 'service.', '$', 'point', 'imagine', 'Wow', '08712460324', 'cheap', 'sunny', 'gd', 'rem', 'march', 'group', \"you've\", 'special.', 'SURPRISE', 'fact', 'lol', \"We're\", 'u!', 'walking', 'landline', 'players', 'POLY', 'player', 'Bluetooth', 'Congrats!', 'Join', 'locations', 'so.', 'STOP.', 'HL', 'friends.', 'not,', 'it..\"', 'balance', 'Pete', '11', 'scream', 'box', 'Time', 'MUCH', 'NIGHT', 'BACK', 'Alright', 'Oops', 'Fuck', ':/', 'pic', '5WB', 'up?', 'same.', 'pray', 'Voucher', 'X', \"you'll\", 'again!', 'talking', 'bold', 'marry', 'horny', 'meh...', 'Okay', 'CR9', 'Croydon', '1327', 'Ltd,', '20p', 'HG/Suite342/2Lands', '86021', \"T's&C's\", 'TXT:', 'reading', 'present', 'lemme', 'sim', 'different', 'msgs', 'God', 'umma', 'plenty', 'Coz', 'then...']\n",
            "length of vocab is 1682\n"
          ]
        }
      ]
    },
    {
      "cell_type": "code",
      "source": [
        "model.wv['message']"
      ],
      "metadata": {
        "colab": {
          "base_uri": "https://localhost:8080/"
        },
        "id": "AdbrnVYe8Bkz",
        "outputId": "8fff8e33-5051-4f58-f475-25673fda7abc"
      },
      "execution_count": 25,
      "outputs": [
        {
          "output_type": "execute_result",
          "data": {
            "text/plain": [
              "array([ 0.28809464, -0.67468524,  0.00398896,  0.27696067, -1.0089191 ,\n",
              "        0.2679542 ,  1.1609201 ,  0.48773256, -0.23673134, -1.0782673 ],\n",
              "      dtype=float32)"
            ]
          },
          "metadata": {},
          "execution_count": 25
        }
      ]
    },
    {
      "cell_type": "code",
      "source": [
        "# How to create vector for each sentence\n",
        "model.wv.similar_by_word('message', topn=10)"
      ],
      "metadata": {
        "id": "ksF8vtdo8otO",
        "colab": {
          "base_uri": "https://localhost:8080/"
        },
        "outputId": "1e8040c9-f635-4157-8a59-2d4e8a55778e"
      },
      "execution_count": 26,
      "outputs": [
        {
          "output_type": "execute_result",
          "data": {
            "text/plain": [
              "[('address', 0.9051418900489807),\n",
              " ('unsubscribe', 0.8930397629737854),\n",
              " ('Just', 0.8918731212615967),\n",
              " ('email', 0.8696279525756836),\n",
              " ('ringtone', 0.8695613145828247),\n",
              " ('order', 0.8545711040496826),\n",
              " ('your', 0.8503281474113464),\n",
              " ('STOP', 0.8485217094421387),\n",
              " ('for', 0.8436923027038574),\n",
              " ('medical', 0.8421151638031006)]"
            ]
          },
          "metadata": {},
          "execution_count": 26
        }
      ]
    },
    {
      "cell_type": "code",
      "source": [
        "model.wv.most_similar('message', topn=10)"
      ],
      "metadata": {
        "id": "4OvM6mlIkJ9H",
        "colab": {
          "base_uri": "https://localhost:8080/"
        },
        "outputId": "a2526e70-6970-4f74-d5c5-cb9f0bcbd043"
      },
      "execution_count": 27,
      "outputs": [
        {
          "output_type": "execute_result",
          "data": {
            "text/plain": [
              "[('address', 0.9051418900489807),\n",
              " ('unsubscribe', 0.8930397629737854),\n",
              " ('Just', 0.8918731212615967),\n",
              " ('email', 0.8696279525756836),\n",
              " ('ringtone', 0.8695613145828247),\n",
              " ('order', 0.8545711040496826),\n",
              " ('your', 0.8503281474113464),\n",
              " ('STOP', 0.8485217094421387),\n",
              " ('for', 0.8436923027038574),\n",
              " ('medical', 0.8421151638031006)]"
            ]
          },
          "metadata": {},
          "execution_count": 27
        }
      ]
    },
    {
      "cell_type": "markdown",
      "source": [
        "#**Save The vectors in lookup table**"
      ],
      "metadata": {
        "id": "J1-3daWXk_hy"
      }
    },
    {
      "cell_type": "code",
      "source": [
        "from gensim.test.utils import get_tmpfile\n",
        "from gensim.models import KeyedVectors\n",
        "\n",
        "# Save vectors using get_tmpfile\n",
        "fname = get_tmpfile(\"vectors.kv\")\n",
        "model.wv.save(fname)\n",
        "\n",
        "#Reload word_vectors\n",
        "word_vectors = KeyedVectors.load(fname, mmap='r')"
      ],
      "metadata": {
        "id": "mHBe4WHRlEfx"
      },
      "execution_count": 28,
      "outputs": []
    },
    {
      "cell_type": "markdown",
      "source": [
        "#**Using Pre-trained Google W2V model**"
      ],
      "metadata": {
        "id": "xvMUB1amlodU"
      }
    },
    {
      "cell_type": "code",
      "source": [
        "import gensim.downloader as api\n",
        "\n",
        "word_vectors = api.load(\"glove-wiki-gigaword-100\")  # load pre-trained word-vectors from gensim-data"
      ],
      "metadata": {
        "id": "LLYKZqqXnwN-"
      },
      "execution_count": 29,
      "outputs": []
    },
    {
      "cell_type": "code",
      "source": [
        "#Check if the vectors are cosemantically accurate\n",
        "result = word_vectors.most_similar(positive=['woman', 'king'], negative=['man'])\n",
        "print(\"{}: {:.4f}\".format(*result[0]))"
      ],
      "metadata": {
        "colab": {
          "base_uri": "https://localhost:8080/"
        },
        "id": "YwT8Lh7ToHb6",
        "outputId": "6d38809f-e6cb-4c37-dc67-3641f73bef2f"
      },
      "execution_count": 30,
      "outputs": [
        {
          "output_type": "stream",
          "name": "stdout",
          "text": [
            "queen: 0.7699\n"
          ]
        }
      ]
    },
    {
      "cell_type": "code",
      "source": [
        "word_vectors['queen']"
      ],
      "metadata": {
        "colab": {
          "base_uri": "https://localhost:8080/"
        },
        "id": "omwcxcPdsMs-",
        "outputId": "763a8e18-de39-418a-b1f0-be69edda32d1"
      },
      "execution_count": 36,
      "outputs": [
        {
          "output_type": "execute_result",
          "data": {
            "text/plain": [
              "array([-0.50045 , -0.70826 ,  0.55388 ,  0.673   ,  0.22486 ,  0.60281 ,\n",
              "       -0.26194 ,  0.73872 , -0.65383 , -0.21606 , -0.33806 ,  0.24498 ,\n",
              "       -0.51497 ,  0.8568  , -0.37199 , -0.58824 ,  0.30637 , -0.30668 ,\n",
              "       -0.2187  ,  0.78369 , -0.61944 , -0.54925 ,  0.43067 , -0.027348,\n",
              "        0.97574 ,  0.46169 ,  0.11486 , -0.99842 ,  1.0661  , -0.20819 ,\n",
              "        0.53158 ,  0.40922 ,  1.0406  ,  0.24943 ,  0.18709 ,  0.41528 ,\n",
              "       -0.95408 ,  0.36822 , -0.37948 , -0.6802  , -0.14578 , -0.20113 ,\n",
              "        0.17113 , -0.55705 ,  0.7191  ,  0.070014, -0.23637 ,  0.49534 ,\n",
              "        1.1576  , -0.05078 ,  0.25731 , -0.091052,  1.2663  ,  1.1047  ,\n",
              "       -0.51584 , -2.0033  , -0.64821 ,  0.16417 ,  0.32935 ,  0.048484,\n",
              "        0.18997 ,  0.66116 ,  0.080882,  0.3364  ,  0.22758 ,  0.1462  ,\n",
              "       -0.51005 ,  0.63777 ,  0.47299 , -0.3282  ,  0.083899, -0.78547 ,\n",
              "        0.099148,  0.039176,  0.27893 ,  0.11747 ,  0.57862 ,  0.043639,\n",
              "       -0.15965 , -0.35304 , -0.048965, -0.32461 ,  1.4981  ,  0.58138 ,\n",
              "       -1.132   , -0.60673 , -0.37505 , -1.1813  ,  0.80117 , -0.50014 ,\n",
              "       -0.16574 , -0.70584 ,  0.43012 ,  0.51051 , -0.8033  , -0.66572 ,\n",
              "       -0.63717 , -0.36032 ,  0.13347 , -0.56075 ], dtype=float32)"
            ]
          },
          "metadata": {},
          "execution_count": 36
        }
      ]
    },
    {
      "cell_type": "markdown",
      "source": [
        "#**Create Sentence Vector**"
      ],
      "metadata": {
        "id": "UxJOEmXrHbrA"
      }
    },
    {
      "cell_type": "code",
      "source": [
        "import numpy as np\n",
        "def GenerateSentencevector(w2v_model, data):\n",
        "  sent_vect=[]\n",
        "  for sentence in data:\n",
        "    temp= np.zeros(w2v_model.vector_size)\n",
        "    for token in sentence:\n",
        "      if token in w2v_model:\n",
        "        temp = temp + np.array(w2v_model[token])\n",
        "    sent_vect.append(temp)\n",
        "\n",
        "  return np.array(sent_vect)\n",
        "\n",
        "Xtrain = GenerateSentencevector(model.wv, x_train)\n",
        "Xtest  = GenerateSentencevector(model.wv, x_test)\n",
        "\n",
        "#using Pretrained\n",
        "#Xtrain = GenerateSentencevector(word_vectors, x_train)\n",
        "#Xtest  = GenerateSentencevector(word_vectors, x_test)"
      ],
      "metadata": {
        "id": "BelJizw6UG0F"
      },
      "execution_count": 39,
      "outputs": []
    },
    {
      "cell_type": "markdown",
      "source": [
        "#**Build classification model**"
      ],
      "metadata": {
        "id": "4aRXZGfSHgWY"
      }
    },
    {
      "cell_type": "code",
      "source": [
        "from sklearn.linear_model import LogisticRegression\n",
        "from sklearn.naive_bayes import GaussianNB\n",
        "from sklearn.metrics import accuracy_score\n",
        "\n",
        "lr = LogisticRegression()\n",
        "lr.fit(Xtrain, y_train)\n",
        "prd_lr = lr.predict(Xtest)\n",
        "print(f'Accuracy of logisitic regression is {accuracy_score(y_test, prd_lr)}')"
      ],
      "metadata": {
        "colab": {
          "base_uri": "https://localhost:8080/"
        },
        "id": "TWrx-WaI94lg",
        "outputId": "6ee27206-8e3d-49a1-a408-47dae3e1844d"
      },
      "execution_count": 40,
      "outputs": [
        {
          "output_type": "stream",
          "name": "stdout",
          "text": [
            "Accuracy of logisitic regression is 0.9461722488038278\n"
          ]
        },
        {
          "output_type": "stream",
          "name": "stderr",
          "text": [
            "/usr/local/lib/python3.10/dist-packages/sklearn/linear_model/_logistic.py:458: ConvergenceWarning: lbfgs failed to converge (status=1):\n",
            "STOP: TOTAL NO. of ITERATIONS REACHED LIMIT.\n",
            "\n",
            "Increase the number of iterations (max_iter) or scale the data as shown in:\n",
            "    https://scikit-learn.org/stable/modules/preprocessing.html\n",
            "Please also refer to the documentation for alternative solver options:\n",
            "    https://scikit-learn.org/stable/modules/linear_model.html#logistic-regression\n",
            "  n_iter_i = _check_optimize_result(\n"
          ]
        }
      ]
    },
    {
      "cell_type": "code",
      "source": [
        "nvb = GaussianNB()\n",
        "nvb.fit(Xtrain, y_train)\n",
        "prd_nvb = nvb.predict(Xtest)\n",
        "print(f'Accuracy of naive Bays is {accuracy_score(y_test, prd_nvb)}')"
      ],
      "metadata": {
        "colab": {
          "base_uri": "https://localhost:8080/"
        },
        "id": "mTBBhXz6A0kP",
        "outputId": "8e0ea96d-9a2c-4186-f909-57b63a4f8c05"
      },
      "execution_count": 41,
      "outputs": [
        {
          "output_type": "stream",
          "name": "stdout",
          "text": [
            "Accuracy of naive Bays is 0.8068181818181818\n"
          ]
        }
      ]
    },
    {
      "cell_type": "code",
      "source": [
        "# build classification model using Neural Networks\n",
        "\n",
        "from keras.layers import Input, Dense\n",
        "from keras.models import Sequential\n",
        "\n",
        "nn = Sequential(\n",
        "    [\n",
        "        Input(shape = (10,)),\n",
        "        Dense(units= 8, activation= 'relu'),\n",
        "        Dense(units= 4, activation= 'relu'),\n",
        "        Dense(units= 1, activation= 'sigmoid'),\n",
        "\n",
        "    ]\n",
        ")\n",
        "\n",
        "nn.compile(optimizer ='adam', loss='binary_crossentropy', metrics=['accuracy'])\n",
        "nn.fit(Xtrain, y_train, epochs=20)\n",
        "nn.evaluate(Xtest, y_test)"
      ],
      "metadata": {
        "colab": {
          "base_uri": "https://localhost:8080/"
        },
        "id": "cugk7r9HBWNg",
        "outputId": "aef30081-60f1-422e-c639-8b6b1e4f8f99"
      },
      "execution_count": 43,
      "outputs": [
        {
          "output_type": "stream",
          "name": "stdout",
          "text": [
            "Epoch 1/20\n",
            "122/122 [==============================] - 1s 2ms/step - loss: 0.5306 - accuracy: 0.8128\n",
            "Epoch 2/20\n",
            "122/122 [==============================] - 0s 2ms/step - loss: 0.3072 - accuracy: 0.9021\n",
            "Epoch 3/20\n",
            "122/122 [==============================] - 0s 2ms/step - loss: 0.2365 - accuracy: 0.9290\n",
            "Epoch 4/20\n",
            "122/122 [==============================] - 1s 5ms/step - loss: 0.2099 - accuracy: 0.9323\n",
            "Epoch 5/20\n",
            "122/122 [==============================] - 0s 3ms/step - loss: 0.1889 - accuracy: 0.9390\n",
            "Epoch 6/20\n",
            "122/122 [==============================] - 0s 3ms/step - loss: 0.1721 - accuracy: 0.9449\n",
            "Epoch 7/20\n",
            "122/122 [==============================] - 0s 3ms/step - loss: 0.1676 - accuracy: 0.9456\n",
            "Epoch 8/20\n",
            "122/122 [==============================] - 0s 3ms/step - loss: 0.1560 - accuracy: 0.9495\n",
            "Epoch 9/20\n",
            "122/122 [==============================] - 0s 3ms/step - loss: 0.1507 - accuracy: 0.9510\n",
            "Epoch 10/20\n",
            "122/122 [==============================] - 0s 3ms/step - loss: 0.1481 - accuracy: 0.9513\n",
            "Epoch 11/20\n",
            "122/122 [==============================] - 0s 3ms/step - loss: 0.1417 - accuracy: 0.9508\n",
            "Epoch 12/20\n",
            "122/122 [==============================] - 0s 3ms/step - loss: 0.1419 - accuracy: 0.9513\n",
            "Epoch 13/20\n",
            "122/122 [==============================] - 0s 2ms/step - loss: 0.1388 - accuracy: 0.9559\n",
            "Epoch 14/20\n",
            "122/122 [==============================] - 0s 2ms/step - loss: 0.1330 - accuracy: 0.9549\n",
            "Epoch 15/20\n",
            "122/122 [==============================] - 0s 2ms/step - loss: 0.1355 - accuracy: 0.9541\n",
            "Epoch 16/20\n",
            "122/122 [==============================] - 0s 2ms/step - loss: 0.1306 - accuracy: 0.9546\n",
            "Epoch 17/20\n",
            "122/122 [==============================] - 0s 2ms/step - loss: 0.1223 - accuracy: 0.9608\n",
            "Epoch 18/20\n",
            "122/122 [==============================] - 0s 2ms/step - loss: 0.1251 - accuracy: 0.9567\n",
            "Epoch 19/20\n",
            "122/122 [==============================] - 0s 2ms/step - loss: 0.1237 - accuracy: 0.9562\n",
            "Epoch 20/20\n",
            "122/122 [==============================] - 0s 2ms/step - loss: 0.1191 - accuracy: 0.9605\n",
            "53/53 [==============================] - 0s 2ms/step - loss: 0.1615 - accuracy: 0.9522\n"
          ]
        },
        {
          "output_type": "execute_result",
          "data": {
            "text/plain": [
              "[0.1615237146615982, 0.9521530866622925]"
            ]
          },
          "metadata": {},
          "execution_count": 43
        }
      ]
    }
  ]
}