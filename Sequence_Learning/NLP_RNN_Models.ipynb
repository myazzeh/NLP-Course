{
  "nbformat": 4,
  "nbformat_minor": 0,
  "metadata": {
    "colab": {
      "provenance": [],
      "authorship_tag": "ABX9TyNNKPgwtioGgo1KibqVniYK",
      "include_colab_link": true
    },
    "kernelspec": {
      "name": "python3",
      "display_name": "Python 3"
    },
    "language_info": {
      "name": "python"
    }
  },
  "cells": [
    {
      "cell_type": "markdown",
      "metadata": {
        "id": "view-in-github",
        "colab_type": "text"
      },
      "source": [
        "<a href=\"https://colab.research.google.com/github/myazzeh/NLP-Course/blob/main/Sequence_Learning/NLP_RNN_Models.ipynb\" target=\"_parent\"><img src=\"https://colab.research.google.com/assets/colab-badge.svg\" alt=\"Open In Colab\"/></a>"
      ]
    },
    {
      "cell_type": "markdown",
      "source": [
        "#**Import necessary libraries**#"
      ],
      "metadata": {
        "id": "rdj_5W8kkCh2"
      }
    },
    {
      "cell_type": "code",
      "execution_count": 15,
      "metadata": {
        "id": "FsYJX_dWJk9f"
      },
      "outputs": [],
      "source": [
        "import pandas as pd\n",
        "import numpy as np\n",
        "import requests\n",
        "import keras\n",
        "from keras.layers import Embedding, Flatten, SimpleRNN, Dense, Dropout\n",
        "from keras.preprocessing.text import Tokenizer\n",
        "from keras.models import Sequential\n",
        "from keras.utils import pad_sequences"
      ]
    },
    {
      "cell_type": "markdown",
      "source": [
        "#**Load datasets from github and split them to input and output**#"
      ],
      "metadata": {
        "id": "r-97e9nBeyQH"
      }
    },
    {
      "cell_type": "code",
      "source": [
        "train_df= pd.read_csv('https://raw.githubusercontent.com/myazzeh/NLP-Course/main/datasets/fake_news_train.csv')\n",
        "test_df= pd.read_csv('https://raw.githubusercontent.com/myazzeh/NLP-Course/main/datasets/fake_news_test.csv')"
      ],
      "metadata": {
        "id": "_NwICagPK3PP"
      },
      "execution_count": 2,
      "outputs": []
    },
    {
      "cell_type": "code",
      "source": [
        "x_train, y_train= train_df['claim_s'], train_df['fake_flag']\n",
        "x_test, y_test= test_df['claim_s'], test_df['fake_flag']"
      ],
      "metadata": {
        "id": "yr8lrhrOLH_W"
      },
      "execution_count": 3,
      "outputs": []
    },
    {
      "cell_type": "markdown",
      "source": [
        "#**Apply Tokenization and Align all text sequences**#\n",
        "num_words parameter in Tokenizer returns the most n frequent words that will appear in the text sequences."
      ],
      "metadata": {
        "id": "cx8XJxDDhOkH"
      }
    },
    {
      "cell_type": "code",
      "source": [
        "tok = Tokenizer(num_words=6620, oov_token='[UNK]')\n",
        "tok.fit_on_texts (x_train)\n",
        "train_seq= tok.texts_to_sequences(x_train)\n",
        "test_seq= tok.texts_to_sequences(x_test)\n",
        "print (f'size of vocab is {len(tok.word_index)}')"
      ],
      "metadata": {
        "id": "DrjZ2AicLb26",
        "colab": {
          "base_uri": "https://localhost:8080/"
        },
        "outputId": "17011ab7-9241-444e-c76d-f22f2d8cc879"
      },
      "execution_count": 4,
      "outputs": [
        {
          "output_type": "stream",
          "name": "stdout",
          "text": [
            "size of vocab is 6620\n"
          ]
        }
      ]
    },
    {
      "cell_type": "code",
      "source": [
        "x_train[0]"
      ],
      "metadata": {
        "colab": {
          "base_uri": "https://localhost:8080/",
          "height": 36
        },
        "id": "ARSrqf1m_G5W",
        "outputId": "410979e7-fe4f-4277-ee1e-d15dcbb8c349"
      },
      "execution_count": 5,
      "outputs": [
        {
          "output_type": "execute_result",
          "data": {
            "text/plain": [
              "'تراجع التضخم النصف سنوي في الجزائر'"
            ],
            "application/vnd.google.colaboratory.intrinsic+json": {
              "type": "string"
            }
          },
          "metadata": {},
          "execution_count": 5
        }
      ]
    },
    {
      "cell_type": "code",
      "source": [
        "test_seq[0:5]"
      ],
      "metadata": {
        "colab": {
          "base_uri": "https://localhost:8080/"
        },
        "id": "WGedObG4-V7S",
        "outputId": "f5d574c7-95f0-443b-e341-559abbc9b2f3"
      },
      "execution_count": 6,
      "outputs": [
        {
          "output_type": "execute_result",
          "data": {
            "text/plain": [
              "[[2176, 276, 879, 718, 1518, 1, 1, 1, 6, 1, 5, 65, 2306],\n",
              " [1, 782, 4184, 1, 3103],\n",
              " [1, 6126, 1, 656, 18, 6087, 1843, 960, 39, 45, 584, 1, 8],\n",
              " [2954, 6, 242, 1248, 278, 458, 6585, 1],\n",
              " [3, 302, 1, 1, 142, 1, 4587, 1, 3, 1, 1]]"
            ]
          },
          "metadata": {},
          "execution_count": 6
        }
      ]
    },
    {
      "cell_type": "code",
      "source": [
        "max_seq_leng= 10\n",
        "vocab= len(tok.word_index)\n",
        "embd_size= 100\n",
        "train_seq= pad_sequences(train_seq, maxlen= max_seq_leng, padding ='post', truncating='post')\n",
        "test_seq= pad_sequences(test_seq, maxlen= max_seq_leng, padding = 'post', truncating='post')\n",
        "train_seq[0:4]"
      ],
      "metadata": {
        "id": "fxNAoPGjN6PE",
        "colab": {
          "base_uri": "https://localhost:8080/"
        },
        "outputId": "fc530493-fc0d-4932-e631-ec462f6292a6"
      },
      "execution_count": 7,
      "outputs": [
        {
          "output_type": "execute_result",
          "data": {
            "text/plain": [
              "array([[  38,  131, 2212, 3830,    2,  168,    0,    0,    0,    0],\n",
              "       [2213,    3,  146, 2214,   24,    0,    0,    0,    0,    0],\n",
              "       [  55,    2,   12,  553, 1088, 2215,  316, 2216,    3,  836],\n",
              "       [1417, 1418, 1419, 3831,    2,    9, 2217,    4,  348, 1420]],\n",
              "      dtype=int32)"
            ]
          },
          "metadata": {},
          "execution_count": 7
        }
      ]
    },
    {
      "cell_type": "markdown",
      "source": [
        "#**Text Classification Model 1 using one RNN layer**#"
      ],
      "metadata": {
        "id": "QAgTzbGRis6O"
      }
    },
    {
      "cell_type": "code",
      "source": [
        "model= Sequential()\n",
        "model.add(Embedding(input_dim= vocab , output_dim= embd_size, input_length= max_seq_leng))\n",
        "model.add(Dropout(0.2))\n",
        "model.add(SimpleRNN(units = embd_size, return_sequences = False))\n",
        "model.add(Dense(30))\n",
        "model.add(Dropout(0.2))\n",
        "model.add(Dense(1, activation='sigmoid'))\n",
        "model.summary()"
      ],
      "metadata": {
        "id": "oQ5aP9_FOXaK",
        "colab": {
          "base_uri": "https://localhost:8080/"
        },
        "outputId": "4fcfd0a8-7c6b-4010-d754-013c62b4cf78"
      },
      "execution_count": 19,
      "outputs": [
        {
          "output_type": "stream",
          "name": "stdout",
          "text": [
            "Model: \"sequential_3\"\n",
            "_________________________________________________________________\n",
            " Layer (type)                Output Shape              Param #   \n",
            "=================================================================\n",
            " embedding_3 (Embedding)     (None, 10, 100)           662000    \n",
            "                                                                 \n",
            " dropout_3 (Dropout)         (None, 10, 100)           0         \n",
            "                                                                 \n",
            " simple_rnn_2 (SimpleRNN)    (None, 100)               20100     \n",
            "                                                                 \n",
            " dense_4 (Dense)             (None, 30)                3030      \n",
            "                                                                 \n",
            " dropout_4 (Dropout)         (None, 30)                0         \n",
            "                                                                 \n",
            " dense_5 (Dense)             (None, 1)                 31        \n",
            "                                                                 \n",
            "=================================================================\n",
            "Total params: 685161 (2.61 MB)\n",
            "Trainable params: 685161 (2.61 MB)\n",
            "Non-trainable params: 0 (0.00 Byte)\n",
            "_________________________________________________________________\n"
          ]
        }
      ]
    },
    {
      "cell_type": "code",
      "source": [
        "model.compile(optimizer='adam', loss='binary_crossentropy', metrics=['accuracy'])\n",
        "result = model.fit(train_seq, y_train, epochs=10, validation_data=(test_seq, y_test) )"
      ],
      "metadata": {
        "id": "vkhKkRupRl90",
        "colab": {
          "base_uri": "https://localhost:8080/"
        },
        "outputId": "dbfa8212-a127-4d54-a3bf-4dd84b96bacc"
      },
      "execution_count": 20,
      "outputs": [
        {
          "output_type": "stream",
          "name": "stdout",
          "text": [
            "Epoch 1/10\n",
            "100/100 [==============================] - 6s 34ms/step - loss: 0.6358 - accuracy: 0.6669 - val_loss: 0.6181 - val_accuracy: 0.6754\n",
            "Epoch 2/10\n",
            "100/100 [==============================] - 2s 20ms/step - loss: 0.4950 - accuracy: 0.7582 - val_loss: 0.6019 - val_accuracy: 0.6842\n",
            "Epoch 3/10\n",
            "100/100 [==============================] - 2s 20ms/step - loss: 0.2919 - accuracy: 0.8769 - val_loss: 0.6695 - val_accuracy: 0.6425\n",
            "Epoch 4/10\n",
            "100/100 [==============================] - 2s 21ms/step - loss: 0.1868 - accuracy: 0.9262 - val_loss: 0.7450 - val_accuracy: 0.6776\n",
            "Epoch 5/10\n",
            "100/100 [==============================] - 2s 20ms/step - loss: 0.1498 - accuracy: 0.9416 - val_loss: 0.7860 - val_accuracy: 0.6579\n",
            "Epoch 6/10\n",
            "100/100 [==============================] - 2s 21ms/step - loss: 0.1212 - accuracy: 0.9542 - val_loss: 0.8654 - val_accuracy: 0.6864\n",
            "Epoch 7/10\n",
            "100/100 [==============================] - 4s 36ms/step - loss: 0.0972 - accuracy: 0.9614 - val_loss: 0.8509 - val_accuracy: 0.6754\n",
            "Epoch 8/10\n",
            "100/100 [==============================] - 2s 20ms/step - loss: 0.0947 - accuracy: 0.9626 - val_loss: 0.9051 - val_accuracy: 0.6272\n",
            "Epoch 9/10\n",
            "100/100 [==============================] - 2s 20ms/step - loss: 0.0744 - accuracy: 0.9749 - val_loss: 0.9062 - val_accuracy: 0.6535\n",
            "Epoch 10/10\n",
            "100/100 [==============================] - 2s 24ms/step - loss: 0.0641 - accuracy: 0.9796 - val_loss: 0.9294 - val_accuracy: 0.6513\n"
          ]
        }
      ]
    },
    {
      "cell_type": "code",
      "source": [
        "import matplotlib.pyplot as plt\n",
        "def plot_results(trained_model, metric):\n",
        "  plt.plot(result.history[metric])\n",
        "  plt.plot(result.history['val_'+metric])\n",
        "  plt.title('model '+ metric)\n",
        "  plt.ylabel(metric)\n",
        "  plt.xlabel('epoch')\n",
        "  plt.legend(['train', 'test'], loc='upper left')\n",
        "  plt.show()\n",
        "\n",
        "plot_results(result, 'accuracy')\n",
        "plot_results(result, 'loss')"
      ],
      "metadata": {
        "colab": {
          "base_uri": "https://localhost:8080/",
          "height": 927
        },
        "id": "wCq3j4eN7UQS",
        "outputId": "b6430a0e-9d55-48aa-ab6a-43d41fdc2729"
      },
      "execution_count": 21,
      "outputs": [
        {
          "output_type": "display_data",
          "data": {
            "text/plain": [
              "<Figure size 640x480 with 1 Axes>"
            ],
            "image/png": "[encoded data removed]"
          },
          "metadata": {}
        },
        {
          "output_type": "display_data",
          "data": {
            "text/plain": [
              "<Figure size 640x480 with 1 Axes>"
            ],
            "image/png": "[encoded data removed]"
          },
          "metadata": {}
        }
      ]
    },
    {
      "cell_type": "code",
      "source": [
        "import tensorflow as tf\n",
        "\n",
        "prd = model.predict(test_seq)\n",
        "[1 if x>=0.5 else 0 for x in prd]"
      ],
      "metadata": {
        "id": "3JUkGDEzSTO7"
      },
      "execution_count": null,
      "outputs": []
    },
    {
      "cell_type": "markdown",
      "source": [
        "#**Text Classification Model 2 using one Bidirectional RNN layer**#"
      ],
      "metadata": {
        "id": "wgK8it98i491"
      }
    },
    {
      "cell_type": "code",
      "source": [
        "from keras.layers import Bidirectional, Average\n",
        "model= Sequential()\n",
        "model.add(Embedding(input_dim=vocab , output_dim= embd_size, input_length= max_seq_leng))\n",
        "model.add(Bidirectional(SimpleRNN(units= embd_size, return_sequences=True)))\n",
        "model.add(Flatten())\n",
        "model.add(Dense(1))\n",
        "model.summary()\n",
        "\n",
        "model.compile(optimizer='adam', loss='binary_crossentropy', metrics=['accuracy'])\n",
        "model.fit(train_seq, y_train, epochs=10, validation_data=(test_seq, y_test) )"
      ],
      "metadata": {
        "id": "R8lRuaTZTShn",
        "colab": {
          "base_uri": "https://localhost:8080/"
        },
        "outputId": "7b89ba18-becb-4fd5-bb0e-93ebfb4f1a72"
      },
      "execution_count": 22,
      "outputs": [
        {
          "output_type": "stream",
          "name": "stdout",
          "text": [
            "Model: \"sequential_4\"\n",
            "_________________________________________________________________\n",
            " Layer (type)                Output Shape              Param #   \n",
            "=================================================================\n",
            " embedding_4 (Embedding)     (None, 10, 100)           662000    \n",
            "                                                                 \n",
            " bidirectional (Bidirection  (None, 10, 200)           40200     \n",
            " al)                                                             \n",
            "                                                                 \n",
            " flatten (Flatten)           (None, 2000)              0         \n",
            "                                                                 \n",
            " dense_6 (Dense)             (None, 1)                 2001      \n",
            "                                                                 \n",
            "=================================================================\n",
            "Total params: 704201 (2.69 MB)\n",
            "Trainable params: 704201 (2.69 MB)\n",
            "Non-trainable params: 0 (0.00 Byte)\n",
            "_________________________________________________________________\n",
            "Epoch 1/10\n",
            "100/100 [==============================] - 8s 42ms/step - loss: 0.7517 - accuracy: 0.6144 - val_loss: 0.6226 - val_accuracy: 0.6776\n",
            "Epoch 2/10\n",
            "100/100 [==============================] - 3s 34ms/step - loss: 0.4683 - accuracy: 0.8085 - val_loss: 1.1580 - val_accuracy: 0.6732\n",
            "Epoch 3/10\n",
            "100/100 [==============================] - 3s 35ms/step - loss: 0.9463 - accuracy: 0.7922 - val_loss: 0.7401 - val_accuracy: 0.6404\n",
            "Epoch 4/10\n",
            "100/100 [==============================] - 2s 24ms/step - loss: 0.6799 - accuracy: 0.8279 - val_loss: 0.8751 - val_accuracy: 0.6864\n",
            "Epoch 5/10\n",
            "100/100 [==============================] - 2s 23ms/step - loss: 0.4651 - accuracy: 0.9206 - val_loss: 1.3387 - val_accuracy: 0.6996\n",
            "Epoch 6/10\n",
            "100/100 [==============================] - 2s 24ms/step - loss: 0.4219 - accuracy: 0.9507 - val_loss: 1.3889 - val_accuracy: 0.7039\n",
            "Epoch 7/10\n",
            "100/100 [==============================] - 2s 24ms/step - loss: 0.4040 - accuracy: 0.9582 - val_loss: 1.5765 - val_accuracy: 0.6974\n",
            "Epoch 8/10\n",
            "100/100 [==============================] - 4s 35ms/step - loss: 0.3925 - accuracy: 0.9617 - val_loss: 1.5114 - val_accuracy: 0.6754\n",
            "Epoch 9/10\n",
            "100/100 [==============================] - 2s 24ms/step - loss: 0.3944 - accuracy: 0.9655 - val_loss: 1.7536 - val_accuracy: 0.6689\n",
            "Epoch 10/10\n",
            "100/100 [==============================] - 2s 24ms/step - loss: 0.4022 - accuracy: 0.9664 - val_loss: 1.8233 - val_accuracy: 0.6711\n"
          ]
        },
        {
          "output_type": "execute_result",
          "data": {
            "text/plain": [
              "<keras.src.callbacks.History at 0x7e4c5c7020b0>"
            ]
          },
          "metadata": {},
          "execution_count": 22
        }
      ]
    },
    {
      "cell_type": "markdown",
      "source": [
        "#**Text Classification Model 3 using Stacked RNN layers**#"
      ],
      "metadata": {
        "id": "rzS67t_Li-a-"
      }
    },
    {
      "cell_type": "code",
      "source": [
        "from keras.layers import Bidirectional\n",
        "model= Sequential()\n",
        "model.add(Embedding(input_dim=vocab , output_dim= embd_size, input_length= max_seq_leng))\n",
        "model.add(SimpleRNN(units= embd_size, return_sequences=True))\n",
        "model.add(SimpleRNN(units= embd_size, return_sequences=True))\n",
        "model.add(SimpleRNN(units= embd_size, return_sequences=False))\n",
        "model.add(Dense(30))\n",
        "model.add(Dense(1))\n",
        "model.summary()\n",
        "\n",
        "model.compile(optimizer='adam', loss='binary_crossentropy', metrics=['accuracy'])\n",
        "model.fit(train_seq, y_train, epochs=10, validation_data=(test_seq, y_test) )"
      ],
      "metadata": {
        "id": "JG6YRmRRcWxH",
        "colab": {
          "base_uri": "https://localhost:8080/"
        },
        "outputId": "f1350b92-0843-4f35-d9cf-7fe184f53456"
      },
      "execution_count": 23,
      "outputs": [
        {
          "output_type": "stream",
          "name": "stdout",
          "text": [
            "Model: \"sequential_5\"\n",
            "_________________________________________________________________\n",
            " Layer (type)                Output Shape              Param #   \n",
            "=================================================================\n",
            " embedding_5 (Embedding)     (None, 10, 100)           662000    \n",
            "                                                                 \n",
            " simple_rnn_4 (SimpleRNN)    (None, 10, 100)           20100     \n",
            "                                                                 \n",
            " simple_rnn_5 (SimpleRNN)    (None, 10, 100)           20100     \n",
            "                                                                 \n",
            " simple_rnn_6 (SimpleRNN)    (None, 100)               20100     \n",
            "                                                                 \n",
            " dense_7 (Dense)             (None, 30)                3030      \n",
            "                                                                 \n",
            " dense_8 (Dense)             (None, 1)                 31        \n",
            "                                                                 \n",
            "=================================================================\n",
            "Total params: 725361 (2.77 MB)\n",
            "Trainable params: 725361 (2.77 MB)\n",
            "Non-trainable params: 0 (0.00 Byte)\n",
            "_________________________________________________________________\n",
            "Epoch 1/10\n",
            "100/100 [==============================] - 7s 41ms/step - loss: 4.5585 - accuracy: 0.6546 - val_loss: 4.9570 - val_accuracy: 0.6689\n",
            "Epoch 2/10\n",
            "100/100 [==============================] - 3s 26ms/step - loss: 4.7661 - accuracy: 0.6779 - val_loss: 5.0242 - val_accuracy: 0.6667\n",
            "Epoch 3/10\n",
            "100/100 [==============================] - 3s 27ms/step - loss: 5.0446 - accuracy: 0.6571 - val_loss: 5.6339 - val_accuracy: 0.6206\n",
            "Epoch 4/10\n",
            "100/100 [==============================] - 3s 25ms/step - loss: 5.8912 - accuracy: 0.5950 - val_loss: 7.8296 - val_accuracy: 0.4627\n",
            "Epoch 5/10\n",
            "100/100 [==============================] - 3s 29ms/step - loss: 5.6458 - accuracy: 0.6229 - val_loss: 5.1074 - val_accuracy: 0.6689\n",
            "Epoch 6/10\n",
            "100/100 [==============================] - 3s 33ms/step - loss: 4.9930 - accuracy: 0.6763 - val_loss: 5.1074 - val_accuracy: 0.6689\n",
            "Epoch 7/10\n",
            "100/100 [==============================] - 3s 25ms/step - loss: 5.0074 - accuracy: 0.6750 - val_loss: 5.0740 - val_accuracy: 0.6711\n",
            "Epoch 8/10\n",
            "100/100 [==============================] - 3s 27ms/step - loss: 5.0074 - accuracy: 0.6754 - val_loss: 5.1074 - val_accuracy: 0.6689\n",
            "Epoch 9/10\n",
            "100/100 [==============================] - 3s 25ms/step - loss: 5.0072 - accuracy: 0.6754 - val_loss: 5.1074 - val_accuracy: 0.6689\n",
            "Epoch 10/10\n",
            "100/100 [==============================] - 4s 35ms/step - loss: 5.0072 - accuracy: 0.6754 - val_loss: 5.1074 - val_accuracy: 0.6689\n"
          ]
        },
        {
          "output_type": "execute_result",
          "data": {
            "text/plain": [
              "<keras.src.callbacks.History at 0x7e4c56cabbb0>"
            ]
          },
          "metadata": {},
          "execution_count": 23
        }
      ]
    }
  ]
}