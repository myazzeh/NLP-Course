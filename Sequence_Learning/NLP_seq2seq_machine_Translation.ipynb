{
  "nbformat": 4,
  "nbformat_minor": 0,
  "metadata": {
    "colab": {
      "provenance": [],
      "gpuType": "V28",
      "authorship_tag": "ABX9TyMU4C0FDG8+uJkMgE3xzMKw",
      "include_colab_link": true
    },
    "kernelspec": {
      "name": "python3",
      "display_name": "Python 3"
    },
    "language_info": {
      "name": "python"
    },
    "accelerator": "TPU"
  },
  "cells": [
    {
      "cell_type": "markdown",
      "metadata": {
        "id": "view-in-github",
        "colab_type": "text"
      },
      "source": [
        "<a href=\"https://colab.research.google.com/github/myazzeh/NLP-Course/blob/main/Sequence_Learning/NLP_seq2seq_machine_Translation.ipynb\" target=\"_parent\"><img src=\"https://colab.research.google.com/assets/colab-badge.svg\" alt=\"Open In Colab\"/></a>"
      ]
    },
    {
      "cell_type": "code",
      "execution_count": null,
      "metadata": {
        "id": "I6JtgvFUzUUz"
      },
      "outputs": [],
      "source": [
        "import collections\n",
        "import helper\n",
        "import numpy as np\n",
        "import os\n",
        "from keras.preprocessing.text import Tokenizer\n",
        "from keras.utils import pad_sequences\n",
        "from keras.models import Model, Sequential\n",
        "from keras.optimizers import Adam\n",
        "import pandas as pd\n",
        "from keras.layers import GRU, LSTM, Input, Dense, TimeDistributed, Activation, RepeatVector, Bidirectional, Embedding\n",
        "from keras.losses import sparse_categorical_crossentropy"
      ]
    },
    {
      "cell_type": "markdown",
      "source": [
        "#**Download and Prepare the datasets**#"
      ],
      "metadata": {
        "id": "tQI8AcHcV9cB"
      }
    },
    {
      "cell_type": "code",
      "source": [
        "!wget https://raw.githubusercontent.com/myazzeh/NLP-Course/main/datasets/small_vocab_en\n",
        "!wget https://raw.githubusercontent.com/myazzeh/NLP-Course/main/datasets/small_vocab_fr"
      ],
      "metadata": {
        "id": "bk6HqrxvzXm7"
      },
      "execution_count": null,
      "outputs": []
    },
    {
      "cell_type": "code",
      "source": [
        "eng_file = os.path.join('small_vocab_en')\n",
        "eng = open(eng_file, \"r\")\n",
        "english_sentences= eng.read().split('\\n')\n",
        "\n",
        "fre_file =os.path.join('small_vocab_fr')\n",
        "fre = open(fre_file, \"r\")\n",
        "french_sentences = fre.read().split('\\n')\n"
      ],
      "metadata": {
        "id": "Pf9f8w3jzZq8"
      },
      "execution_count": null,
      "outputs": []
    },
    {
      "cell_type": "code",
      "source": [
        "#Test the sentences\n",
        "for i in range(2):\n",
        "    print(f'English sentence at Line {i + 1}: {english_sentences[i]}')\n",
        "    print(f'French sentence at Line {i + 1}: {french_sentences[i]}')\n",
        "    print('-------------------------------------------------')"
      ],
      "metadata": {
        "id": "jhtrh30Q0WFc"
      },
      "execution_count": null,
      "outputs": []
    },
    {
      "cell_type": "code",
      "source": [
        "# Get Initial Vocab Size for both English and French dataset\n",
        "#english_vocab = len(collections.Counter([word for sentence in english_sentences for word in sentence.split()]))\n",
        "#french_vocab  = len(collections.Counter([word for sentence in french_sentences for word in sentence.split()]))\n",
        "#print(f'English vocab size is {english_vocab}, and French vocab size is {french_vocab}')"
      ],
      "metadata": {
        "id": "0zyKRiQ924Jk"
      },
      "execution_count": null,
      "outputs": []
    },
    {
      "cell_type": "markdown",
      "source": [
        "#**Tokenize English and French Corpus and Align all sequences**#"
      ],
      "metadata": {
        "id": "9wFzQbEUWKjI"
      }
    },
    {
      "cell_type": "code",
      "source": [
        "# Find Maximum sequence Length in both datasets\n",
        "length_eng = max([len(sentence) for sentence in english_sentences])\n",
        "length_fre = max([len(sentence) for sentence in french_sentences])\n",
        "max_length= max(length_eng, length_fre)\n",
        "print(f'Maxmium sequence length in both dataset is {max_length}')"
      ],
      "metadata": {
        "id": "Buz506RS2Xbf"
      },
      "execution_count": null,
      "outputs": []
    },
    {
      "cell_type": "code",
      "source": [
        "etok = Tokenizer(char_level = False, oov_token='[UNK]')\n",
        "etok.fit_on_texts(english_sentences)\n",
        "english_seq = etok.texts_to_sequences(english_sentences)\n",
        "english_seq = pad_sequences(english_seq, maxlen = max_length, padding = 'post')\n",
        "\n",
        "ftok = Tokenizer(char_level = False)\n",
        "ftok.fit_on_texts(french_sentences)\n",
        "french_seq = ftok.texts_to_sequences(french_sentences)\n",
        "french_seq = pad_sequences(french_seq, maxlen = max_length, padding = 'post')\n",
        "#french_seq = french_seq.reshape(*french_seq.shape, 1)"
      ],
      "metadata": {
        "id": "7Vl0nwqF0dcc"
      },
      "execution_count": null,
      "outputs": []
    },
    {
      "cell_type": "code",
      "source": [
        "english_seq[0]"
      ],
      "metadata": {
        "id": "muZPhJ_fHn7p"
      },
      "execution_count": null,
      "outputs": []
    },
    {
      "cell_type": "code",
      "source": [
        "french_seq[0]"
      ],
      "metadata": {
        "id": "kXa2AnoNHrp3"
      },
      "execution_count": null,
      "outputs": []
    },
    {
      "cell_type": "code",
      "source": [
        "print(*english_seq.shape)"
      ],
      "metadata": {
        "id": "cNqyfHFFf_0a"
      },
      "execution_count": null,
      "outputs": []
    },
    {
      "cell_type": "code",
      "source": [
        "#Get Vocab Size\n",
        "english_vocab = len(etok.word_index)\n",
        "french_vocab = len(ftok.word_index)\n",
        "print(f'English vocab size is {english_vocab}, and French vocab size is {french_vocab}')"
      ],
      "metadata": {
        "id": "OY0rhM1S6KV9"
      },
      "execution_count": null,
      "outputs": []
    },
    {
      "cell_type": "markdown",
      "source": [
        "#**First Machine Translation Model using Two RNN (Encoder and Decoder)**#"
      ],
      "metadata": {
        "id": "MoD6fEqlWclp"
      }
    },
    {
      "cell_type": "code",
      "source": [
        "#Model 1 is a simple RNN\n",
        "def logits_to_text(logits, tokenizer):\n",
        "    index_to_words = {id: word for word, id in tokenizer.word_index.items()}\n",
        "    index_to_words[0] = '<PAD>'\n",
        "    return ' '.join([index_to_words[prediction] for prediction in np.argmax(logits, 1)])\n",
        "\n",
        "print('`logits_to_text` function loaded.')"
      ],
      "metadata": {
        "id": "83AlTm964nkU"
      },
      "execution_count": null,
      "outputs": []
    },
    {
      "cell_type": "code",
      "source": [
        "model = Sequential()\n",
        "model.add(Embedding(input_dim=english_vocab,output_dim=128,input_length=max_length))\n",
        "model.add(Bidirectional(LSTM(256,return_sequences=False)))\n",
        "model.add(RepeatVector(max_length))\n",
        "model.add(Bidirectional(LSTM(256,return_sequences=True)))\n",
        "model.add(TimeDistributed(Dense(french_vocab,activation='softmax')))\n",
        "learning_rate = 0.005\n",
        "model.compile(loss = sparse_categorical_crossentropy, optimizer = Adam(learning_rate), metrics = ['accuracy'])\n",
        "model.fit(english_seq, french_seq, batch_size = 1024, epochs = 2, validation_split = 0.2)"
      ],
      "metadata": {
        "id": "oUcYcwZo5t7M"
      },
      "execution_count": null,
      "outputs": []
    },
    {
      "cell_type": "code",
      "source": [
        "print(logits_to_text(model.predict(french_seq[:1])[0], ftok))"
      ],
      "metadata": {
        "id": "SPQiCedflq55"
      },
      "execution_count": null,
      "outputs": []
    },
    {
      "cell_type": "code",
      "source": [
        "y_id_to_word = {value: key for key, value in ftok.word_index.items()}\n",
        "y_id_to_word[0] = '<PAD>'\n",
        "sentence = 'he saw a old yellow truck'\n",
        "sentence = [etok.word_index[word] for word in sentence.split()]\n",
        "sentence = pad_sequences([sentence], maxlen=max_length, padding='post')\n",
        "sentences = np.array([sentence[0], english_seq[0]])\n",
        "predictions = model.predict(sentences, len(sentences))\n",
        "print('Sample 1:')\n",
        "print(' '.join([y_id_to_word[np.argmax(x)] for x in predictions[0]]))\n",
        "print('Il a vu un vieux camion jaune')\n",
        "print('Sample 2:')\n",
        "print(' '.join([y_id_to_word[np.argmax(x)] for x in predictions[1]]))\n",
        "print(' '.join([y_id_to_word[np.max(x)] for x in french_seq[0]]))"
      ],
      "metadata": {
        "id": "zqTYcRLc_uxD"
      },
      "execution_count": null,
      "outputs": []
    },
    {
      "cell_type": "markdown",
      "source": [
        "#**Second Machine Translation Model using Two RNN (Encoder and Decoder)**#\n",
        "\n",
        "\n",
        "\n"
      ],
      "metadata": {
        "id": "VjCpjIxpWqdB"
      }
    },
    {
      "cell_type": "code",
      "source": [
        "#Model 2: Embedding\n",
        "\n",
        "from keras.models import Sequential\n",
        "def embed_model(input_shape, output_sequence_length, english_vocab_size, french_vocab_size):\n",
        "    learning_rate = 1e-3\n",
        "    rnn = GRU(64, return_sequences=True, activation=\"tanh\")\n",
        "    embedding = Embedding(french_vocab_size, 64, input_length=input_shape[1])\n",
        "    logits = TimeDistributed(Dense(french_vocab_size, activation=\"softmax\"))\n",
        "    model = Sequential()\n",
        "    #em can only be used in first layer --> Keras Documentation\n",
        "    model.add(embedding)\n",
        "    model.add(rnn)\n",
        "    model.add(logits)\n",
        "    model.compile(loss=sparse_categorical_crossentropy,optimizer=Adam(learning_rate), metrics=['accuracy'])\n",
        "    return model\n",
        "#tests.test_embed_model(embed_model)\n",
        "tmp_x = pad(preproc_english_sentences, max_french_sequence_length)\n",
        "tmp_x = tmp_x.reshape((-1, preproc_french_sentences.shape[-2]))\n",
        "embeded_model = embed_model(\n",
        "tmp_x.shape,\n",
        "max_french_sequence_length,\n",
        "english_vocab_size,\n",
        "french_vocab_size)\n",
        "embeded_model.fit(tmp_x, preproc_french_sentences, batch_size=1024, epochs=10, validation_split=0.2)\n",
        "print(logits_to_text(embeded_model.predict(tmp_x[:1])[0], french_tokenizer))"
      ],
      "metadata": {
        "id": "nltV-7D7WwAx"
      },
      "execution_count": null,
      "outputs": []
    },
    {
      "cell_type": "markdown",
      "source": [
        "#**Third Machine Translation Model using Two RNN (Encoder and Decoder)**#"
      ],
      "metadata": {
        "id": "ElgcNEmbW1zx"
      }
    },
    {
      "cell_type": "code",
      "source": [
        "#Model 3: Bidirectional RNNs\n",
        "def bd_model(input_shape, output_sequence_length, english_vocab_size, french_vocab_size):\n",
        "    learning_rate = 1e-3\n",
        "    model = Sequential()\n",
        "    model.add(Bidirectional(GRU(128, return_sequences = True, dropout = 0.1),\n",
        "    input_shape = input_shape[1:]))\n",
        "    model.add(TimeDistributed(Dense(french_vocab_size, activation = 'softmax')))\n",
        "    model.compile(loss = sparse_categorical_crossentropy,\n",
        "    optimizer = Adam(learning_rate),\n",
        "    metrics = ['accuracy'])\n",
        "    return model\n",
        "tests.test_bd_model(bd_model)\n",
        "tmp_x = pad(preproc_english_sentences, preproc_french_sentences.shape[1])\n",
        "tmp_x = tmp_x.reshape((-1, preproc_french_sentences.shape[-2], 1))\n",
        "bidi_model = bd_model(\n",
        "tmp_x.shape,\n",
        "preproc_french_sentences.shape[1],\n",
        "len(english_tokenizer.word_index)+1,\n",
        "len(french_tokenizer.word_index)+1)\n",
        "bidi_model.fit(tmp_x, preproc_french_sentences, batch_size=1024, epochs=20, validation_split=0.2)\n",
        "# Print prediction(s)\n",
        "print(logits_to_text(bidi_model.predict(tmp_x[:1])[0], french_tokenizer))"
      ],
      "metadata": {
        "id": "jxZCpKp7W7Ax"
      },
      "execution_count": null,
      "outputs": []
    },
    {
      "cell_type": "markdown",
      "source": [
        "#**Forth Machine Translation Model using Two RNN (Encoder and Decoder)**#"
      ],
      "metadata": {
        "id": "pri5AV-ZW-bp"
      }
    },
    {
      "cell_type": "code",
      "source": [
        "#Model 4: Encoder-Decoder\n",
        "\n",
        "def encdec_model(input_shape, output_sequence_length, english_vocab_size, french_vocab_size):\n",
        "    learning_rate = 1e-3\n",
        "    model = Sequential()\n",
        "    model.add(LSTM(128, input_shape = input_shape[1:], return_sequences = False))\n",
        "    model.add(RepeatVector(output_sequence_length))\n",
        "    model.add(LSTM(128, return_sequences = True))\n",
        "    model.add(TimeDistributed(Dense(french_vocab_size, activation = 'softmax')))\n",
        "    model.compile(loss = sparse_categorical_crossentropy, optimizer = Adam(learning_rate), metrics = ['accuracy'])\n",
        "    return model\n",
        "\n",
        "tests.test_encdec_model(encdec_model)\n",
        "tmp_x = pad(preproc_english_sentences)\n",
        "tmp_x = tmp_x.reshape((-1, preproc_english_sentences.shape[1], 1))\n",
        "encodeco_model = encdec_model(\n",
        "tmp_x.shape,\n",
        "preproc_french_sentences.shape[1],\n",
        "len(english_tokenizer.word_index)+1,\n",
        "len(french_tokenizer.word_index)+1)\n",
        "encodeco_model.fit(tmp_x, preproc_french_sentences, batch_size=1024, epochs=20, validation_split=0.2)\n",
        "print(logits_to_text(encodeco_model.predict(tmp_x[:1])[0], french_tokenizer))"
      ],
      "metadata": {
        "id": "L2B6fhaEXEm5"
      },
      "execution_count": null,
      "outputs": []
    },
    {
      "cell_type": "markdown",
      "source": [
        "#**Fifth Machine Translation Model using Two RNN (Encoder and Decoder)**#"
      ],
      "metadata": {
        "id": "SfobMaINXIOp"
      }
    },
    {
      "cell_type": "code",
      "source": [
        "#Model 5: Custom\n",
        "def model_final(input_shape, output_sequence_length, english_vocab_size, french_vocab_size):\n",
        "    model = Sequential()\n",
        "    model.add(Embedding(input_dim=english_vocab_size,output_dim=128,input_length=input_shape[1]))\n",
        "    model.add(Bidirectional(GRU(256,return_sequences=False)))\n",
        "    model.add(RepeatVector(output_sequence_length))\n",
        "    model.add(Bidirectional(GRU(256,return_sequences=True)))\n",
        "    model.add(TimeDistributed(Dense(french_vocab_size,activation='softmax')))\n",
        "    learning_rate = 0.005\n",
        "    model.compile(loss = sparse_categorical_crossentropy,\n",
        "    optimizer = Adam(learning_rate),\n",
        "    metrics = ['accuracy'])\n",
        "    return model\n",
        "tests.test_model_final(model_final)\n",
        "print('Final Model Loaded')\n",
        "def final_predictions(x, y, x_tk, y_tk):\n",
        "tmp_X = pad(preproc_english_sentences)\n",
        "model = model_final(tmp_X.shape,\n",
        "preproc_french_sentences.shape[1],\n",
        "len(english_tokenizer.word_index)+1,\n",
        "len(french_tokenizer.word_index)+1)\n",
        "\n",
        "model.fit(tmp_X, preproc_french_sentences, batch_size = 1024, epochs = 17, validation_split = 0.2)\n",
        "y_id_to_word = {value: key for key, value in y_tk.word_index.items()}\n",
        "y_id_to_word[0] = '<PAD>'\n",
        "sentence = 'he saw a old yellow truck'\n",
        "sentence = [x_tk.word_index[word] for word in sentence.split()]\n",
        "sentence = pad_sequences([sentence], maxlen=x.shape[-1], padding='post')\n",
        "sentences = np.array([sentence[0], x[0]])\n",
        "predictions = model.predict(sentences, len(sentences))\n",
        "print('Sample 1:')\n",
        "print(' '.join([y_id_to_word[np.argmax(x)] for x in predictions[0]]))\n",
        "print('Il a vu un vieux camion jaune')\n",
        "print('Sample 2:')\n",
        "print(' '.join([y_id_to_word[np.argmax(x)] for x in predictions[1]]))\n",
        "print(' '.join([y_id_to_word[np.max(x)] for x in y[0]]))\n",
        "final_predictions(preproc_english_sentences, preproc_french_sentences, english_tokenizer, french_tokenizer)"
      ],
      "metadata": {
        "id": "fvyG4jjWXU7H"
      },
      "execution_count": null,
      "outputs": []
    }
  ]
}