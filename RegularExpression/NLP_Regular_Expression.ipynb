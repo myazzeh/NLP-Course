{
  "cells": [
    {
      "cell_type": "markdown",
      "metadata": {
        "id": "view-in-github",
        "colab_type": "text"
      },
      "source": [
        "<a href=\"https://colab.research.google.com/github/myazzeh/NLP-Course/blob/main/RegularExpression/NLP_Regular_Expression.ipynb\" target=\"_parent\"><img src=\"https://colab.research.google.com/assets/colab-badge.svg\" alt=\"Open In Colab\"/></a>"
      ]
    },
    {
      "cell_type": "markdown",
      "source": [
        "##re Library##"
      ],
      "metadata": {
        "id": "vi-O43ExpJdE"
      }
    },
    {
      "cell_type": "code",
      "execution_count": 1,
      "metadata": {
        "id": "mplkCssh4vJ9"
      },
      "outputs": [],
      "source": [
        "import re"
      ]
    },
    {
      "cell_type": "code",
      "execution_count": 2,
      "metadata": {
        "id": "7zSuyHelYAFn"
      },
      "outputs": [],
      "source": [
        "#Consider the following small text corpus\n",
        "\n",
        "text=\"Hi Mohammad this is my email mmmm@gmail.com and this aa_aa@hotmail.com my mobile no. 07999999999 and see you, Mohammad\""
      ]
    },
    {
      "cell_type": "markdown",
      "source": [
        "##Find te first email in the text using search function##"
      ],
      "metadata": {
        "id": "iR8kx-FTqfn8"
      }
    },
    {
      "cell_type": "code",
      "execution_count": 4,
      "metadata": {
        "colab": {
          "base_uri": "https://localhost:8080/"
        },
        "id": "WXCekwcNFu2o",
        "outputId": "c9f2f50d-958c-4092-ff4f-2669f14041fa"
      },
      "outputs": [
        {
          "output_type": "stream",
          "name": "stdout",
          "text": [
            "(29, 43)\n",
            "29\n",
            "mmmm@gmail.com\n"
          ]
        }
      ],
      "source": [
        "\n",
        "regex = '[\\w\\.]+@(gmail|hotmail|yahoo)\\.com'\n",
        "result= re.search(regex, text)\n",
        "if result is not None:\n",
        "  print(result.span())\n",
        "  print(result.start())\n",
        "  print(result.group())"
      ]
    },
    {
      "cell_type": "markdown",
      "source": [
        "## Find all emails in the text using finditer##"
      ],
      "metadata": {
        "id": "HvA0wKQ2qYD9"
      }
    },
    {
      "cell_type": "code",
      "execution_count": 6,
      "metadata": {
        "colab": {
          "base_uri": "https://localhost:8080/"
        },
        "id": "83UipTNfevKv",
        "outputId": "dd7bfb87-ee41-4e90-8a5f-8f17e2c49b44"
      },
      "outputs": [
        {
          "output_type": "stream",
          "name": "stdout",
          "text": [
            "<callable_iterator object at 0x7a315598e440>\n",
            "(29, 43)\n",
            "mmmm@gmail.com\n",
            "(53, 70)\n",
            "aa_aa@hotmail.com\n"
          ]
        }
      ],
      "source": [
        "regex = '[\\w\\.]+@(gmail|hotmail|yahoo)\\.com'\n",
        "results2=re.finditer(regex, text)\n",
        "print(results2)\n",
        "for mach in results2:\n",
        "  print(mach.span())\n",
        "  print(mach.group())"
      ]
    },
    {
      "cell_type": "markdown",
      "source": [
        "###Find all emails in the text using findall##"
      ],
      "metadata": {
        "id": "FfO4SZgCqufw"
      }
    },
    {
      "cell_type": "code",
      "source": [
        "regex = '[\\w\\.]+@(gmail|hotmail|yahoo)\\.com'\n",
        "results2=re.findall(regex, text)\n",
        "print(results2)\n",
        "for out in results2:\n",
        "  print(out)"
      ],
      "metadata": {
        "colab": {
          "base_uri": "https://localhost:8080/"
        },
        "id": "6gz2WvIeqF7c",
        "outputId": "2b716d0a-da24-4325-9169-09e8288e8e3b"
      },
      "execution_count": 8,
      "outputs": [
        {
          "output_type": "stream",
          "name": "stdout",
          "text": [
            "['gmail', 'hotmail']\n",
            "gmail\n",
            "hotmail\n"
          ]
        }
      ]
    },
    {
      "cell_type": "markdown",
      "source": [
        "##Write a python program to retrieve mobile number in jordan##"
      ],
      "metadata": {
        "id": "_bTweZI8qyrg"
      }
    },
    {
      "cell_type": "code",
      "execution_count": 9,
      "metadata": {
        "colab": {
          "base_uri": "https://localhost:8080/"
        },
        "id": "SxHxmXCo4z69",
        "outputId": "39842bc0-3622-403e-ed88-2ee4cc65cca1"
      },
      "outputs": [
        {
          "output_type": "stream",
          "name": "stdout",
          "text": [
            "(0, 16)\n",
            "(36, 52)\n",
            "+962(0)777654321\n",
            "+962(0)781234567\n"
          ]
        }
      ],
      "source": [
        "#pattern='\\+\\d{1,3}\\(0\\)7[7-9]\\d{7}$'\n",
        "pattern2= '\\+962\\(0\\)7[7-9]\\d{7}'\n",
        "text='+962(0)777654321 and the second one +962(0)781234567 '\n",
        "\n",
        "result=re.finditer(pattern2, text)\n",
        "for mobile in result:\n",
        "  print(mobile.span())\n",
        "\n",
        "result2=re.findall(pattern2, text)\n",
        "\n",
        "print(result2[0])\n",
        "print(result2[1])"
      ]
    },
    {
      "cell_type": "code",
      "source": [
        "prog = re.compile(pattern2)\n",
        "print(prog)\n",
        "result = prog.match(text)\n",
        "print(result is None)"
      ],
      "metadata": {
        "colab": {
          "base_uri": "https://localhost:8080/"
        },
        "id": "BRtWp7BurGVs",
        "outputId": "33017f64-26fe-41da-f1e8-4841ae6d18a5"
      },
      "execution_count": 10,
      "outputs": [
        {
          "output_type": "stream",
          "name": "stdout",
          "text": [
            "re.compile('\\\\+962\\\\(0\\\\)7[7-9]\\\\d{7}')\n",
            "False\n"
          ]
        }
      ]
    },
    {
      "cell_type": "code",
      "execution_count": null,
      "metadata": {
        "colab": {
          "base_uri": "https://localhost:8080/"
        },
        "id": "qWBa-xZMVXdZ",
        "outputId": "b8044ab2-5064-4809-8812-f4796485e079"
      },
      "outputs": [
        {
          "name": "stdout",
          "output_type": "stream",
          "text": [
            "<re.Match object; span=(21, 37), match='+962(0)791234567'>\n",
            "+962(0)791234567\n",
            "+962(0)797654321\n"
          ]
        }
      ],
      "source": [
        "pattern='\\+\\d{1,3}\\(0\\)7[7-9]\\d{7}'\n",
        "text='this is my first no. +962(0)791234567 and this is my second no. +962(0)797654321'\n",
        "result = re.search(pattern, text)\n",
        "allmatches= re.findall(pattern, text)\n",
        "print(result)\n",
        "for mat in allmatches:\n",
        "  print(mat)"
      ]
    },
    {
      "cell_type": "code",
      "execution_count": null,
      "metadata": {
        "colab": {
          "base_uri": "https://localhost:8080/"
        },
        "id": "57nzF9CVivwd",
        "outputId": "1639b89a-86cc-4d90-c3e5-70c86cae2920"
      },
      "outputs": [
        {
          "name": "stdout",
          "output_type": "stream",
          "text": [
            "+962(0)791111111\n",
            "Here is the second results +962(0)791111111\n"
          ]
        }
      ],
      "source": [
        "pattern='\\+\\d{1,3}\\(0\\)\\d{9}'\n",
        "text='hello +962(0)791111111 +962(0)784444444 this is my number +962(0)7912345678'\n",
        "result = re.findall(pattern, text)\n",
        "print(result[0])\n",
        "\n",
        "res2=re.search(pattern, text)\n",
        "print('Here is the second results', res2[0])"
      ]
    },
    {
      "cell_type": "markdown",
      "source": [
        "##Text Cleaning##"
      ],
      "metadata": {
        "id": "3yYyfS6WrYg7"
      }
    },
    {
      "cell_type": "code",
      "execution_count": null,
      "metadata": {
        "id": "Dhf0f7Gbrdt1"
      },
      "outputs": [],
      "source": [
        "import re\n",
        "def remove_emoji(text):\n",
        "  emoji_pattern = re.compile(\"[\"\n",
        "                              u\"\\U0001F600-\\U0001F64F\"\n",
        "                              u\"\\U0001F300-\\U0001F5FF\"\n",
        "                              u\"\\U0001F680-\\U0001F6FF\"\n",
        "                              u\"\\U0001F1E0-\\U0001F1FF\"\n",
        "                              u\"\\U00002702-\\U000027B0\"\n",
        "                              u\"\\U000024C2-\\U0001F251\"\n",
        "                            \"]+\", flags=re.UNICODE)\n",
        "  text = emoji_pattern.sub(r'', text)\n",
        "  return text"
      ]
    },
    {
      "cell_type": "code",
      "execution_count": null,
      "metadata": {
        "colab": {
          "base_uri": "https://localhost:8080/",
          "height": 36
        },
        "id": "BFL0_-PvPYtH",
        "outputId": "0c6a8b13-2a2b-4ba3-aaac-d78e5b3f37c0"
      },
      "outputs": [
        {
          "data": {
            "application/vnd.google.colaboratory.intrinsic+json": {
              "type": "string"
            },
            "text/plain": [
              "'this is my first no. https://psut.edu.jo +962(0)791234567 &#128512 &#128516 &#128525 &#128151 and this is my second no. +962(0)797654321'"
            ]
          },
          "execution_count": 16,
          "metadata": {},
          "output_type": "execute_result"
        }
      ],
      "source": [
        "text='this is my first no. https://psut.edu.jo +962(0)791234567 &#128512 &#128516 &#128525 &#128151 and this is my second no. +962(0)797654321'\n",
        "remove_emoji(text)"
      ]
    }
  ],
  "metadata": {
    "colab": {
      "provenance": [],
      "authorship_tag": "ABX9TyMNmDIYHn72DSwWlWAvZn26",
      "include_colab_link": true
    },
    "kernelspec": {
      "display_name": "Python 3",
      "name": "python3"
    },
    "language_info": {
      "name": "python"
    }
  },
  "nbformat": 4,
  "nbformat_minor": 0
}